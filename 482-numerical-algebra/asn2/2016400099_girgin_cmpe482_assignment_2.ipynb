{
 "cells": [
  {
   "cell_type": "markdown",
   "metadata": {},
   "source": [
    "# CmpE 482 - Spring2021 - Assignment 1"
   ]
  },
  {
   "cell_type": "markdown",
   "metadata": {},
   "source": [
    "**Student ID:** 2016400099 \\\n",
    "**Name Surname:** Emre Girgin \\\n",
    "**Date:** 18.04.2021"
   ]
  },
  {
   "cell_type": "code",
   "execution_count": 1,
   "metadata": {},
   "outputs": [],
   "source": [
    "import numpy as np\n",
    "import matplotlib.pyplot as plt"
   ]
  },
  {
   "cell_type": "markdown",
   "metadata": {},
   "source": [
    "## Question 1:"
   ]
  },
  {
   "cell_type": "code",
   "execution_count": 2,
   "metadata": {},
   "outputs": [
    {
     "data": {
      "image/png": "[encoded data removed]",
      "text/plain": [
       "<Figure size 432x288 with 1 Axes>"
      ]
     },
     "metadata": {
      "needs_background": "light"
     },
     "output_type": "display_data"
    }
   ],
   "source": [
    "v = np.array([4,-1], dtype=\"float64\")\n",
    "\n",
    "plt.plot((0,v[0]), (0,v[1]), 'ro-')\n",
    "plt.xlim([-5,5])\n",
    "plt.ylim([-5,5])\n",
    "plt.grid()\n",
    "plt.show()"
   ]
  },
  {
   "cell_type": "markdown",
   "metadata": {},
   "source": [
    "### a."
   ]
  },
  {
   "cell_type": "markdown",
   "metadata": {},
   "source": [
    "* 30 degrees are equal to $\\pi/6$.\n",
    "* Counter-clockwise $\\theta$ degree rotation matrix is\n",
    "$\n",
    "\\begin{bmatrix}\n",
    "cos\\theta & -sin\\theta \\\\\n",
    "sin\\theta & cos\\theta\n",
    "\\end{bmatrix}\n",
    "$\n",
    "* Thus, 30 degree counter-clockwise rotating matrix is \n",
    "$\n",
    "\\begin{bmatrix}\n",
    "cos(\\pi/6) & -sin(\\pi/6) \\\\\n",
    "sin(\\pi/6) & cos(\\pi/6)\n",
    "\\end{bmatrix}\n",
    "$"
   ]
  },
  {
   "cell_type": "code",
   "execution_count": 3,
   "metadata": {},
   "outputs": [
    {
     "name": "stdout",
     "output_type": "stream",
     "text": [
      "Rotation Matrix:\n"
     ]
    },
    {
     "data": {
      "text/plain": [
       "array([[ 0.8660254, -0.5      ],\n",
       "       [ 0.5      ,  0.8660254]])"
      ]
     },
     "execution_count": 3,
     "metadata": {},
     "output_type": "execute_result"
    }
   ],
   "source": [
    "rotation_matrix = np.array([\n",
    "    [np.cos(np.pi/6), -np.sin(np.pi/6)],\n",
    "    [np.sin(np.pi/6), np.cos(np.pi/6)],\n",
    "], dtype=\"float64\")\n",
    "print(\"Rotation Matrix:\")\n",
    "rotation_matrix"
   ]
  },
  {
   "cell_type": "markdown",
   "metadata": {},
   "source": [
    "### b."
   ]
  },
  {
   "cell_type": "markdown",
   "metadata": {},
   "source": [
    "The degree of the angle between horizontal axis and the vector to be projected on can be found using the **arctan** function."
   ]
  },
  {
   "cell_type": "code",
   "execution_count": 4,
   "metadata": {},
   "outputs": [],
   "source": [
    "l = np.array([1, -1], dtype=\"float64\")\n",
    "theta_l = np.arctan(l[1]/l[0])"
   ]
  },
  {
   "cell_type": "markdown",
   "metadata": {},
   "source": [
    "Then the projection matrix is the following:\n",
    "\n",
    "$\n",
    "\\begin{bmatrix}\n",
    "(1/2)(1 + cos(2\\theta)) & (1/2)sin(2\\theta) \\\\\n",
    "(1/2)sin(2\\theta) & (1/2)(1 - cos(2\\theta))\n",
    "\\end{bmatrix}\n",
    "$\n"
   ]
  },
  {
   "cell_type": "code",
   "execution_count": 5,
   "metadata": {},
   "outputs": [
    {
     "name": "stdout",
     "output_type": "stream",
     "text": [
      "Projection Matrix:\n"
     ]
    },
    {
     "data": {
      "text/plain": [
       "array([[ 0.5, -0.5],\n",
       "       [-0.5,  0.5]])"
      ]
     },
     "execution_count": 5,
     "metadata": {},
     "output_type": "execute_result"
    }
   ],
   "source": [
    "proj_matrix = np.array([\n",
    "    [(1/2) * (1 + np.cos(2 * theta_l)), (1/2) * np.sin(2 * theta_l)],\n",
    "    [(1/2) * np.sin(2 * theta_l), (1/2) * (1 - np.cos(2 * theta_l))]\n",
    "], dtype=\"float64\")\n",
    "print(\"Projection Matrix:\")\n",
    "proj_matrix"
   ]
  },
  {
   "cell_type": "markdown",
   "metadata": {},
   "source": [
    "### c."
   ]
  },
  {
   "cell_type": "code",
   "execution_count": 6,
   "metadata": {},
   "outputs": [
    {
     "data": {
      "image/png": "[encoded data removed]",
      "text/plain": [
       "<Figure size 432x288 with 1 Axes>"
      ]
     },
     "metadata": {
      "needs_background": "light"
     },
     "output_type": "display_data"
    }
   ],
   "source": [
    "rotated = rotation_matrix.dot(v)\n",
    "projected = proj_matrix.dot(v)\n",
    "plt.plot((0,v[0]), (0,v[1]), 'ro-', label=\"Original\")\n",
    "plt.plot((0,rotated[0]), (0,rotated[1]), 'bo-', label=\"Rotated\")\n",
    "plt.plot((0,projected[0]), (0,projected[1]), 'go-', label=\"Projected\")\n",
    "plt.xlim([-5,5])\n",
    "plt.ylim([-5,5])\n",
    "plt.grid()\n",
    "plt.legend()\n",
    "plt.show()"
   ]
  },
  {
   "cell_type": "markdown",
   "metadata": {},
   "source": [
    "### d."
   ]
  },
  {
   "cell_type": "code",
   "execution_count": 7,
   "metadata": {},
   "outputs": [
    {
     "name": "stdout",
     "output_type": "stream",
     "text": [
      "(L2) Norm of original vector: 4.123105625617661\n",
      "(L2) Norm of rotated vector: 4.123105625617661\n",
      "(L2) Norm of projected vector: 3.5355339059327378\n"
     ]
    }
   ],
   "source": [
    "def l2_norm(vector):\n",
    "    return np.sqrt(sum(vector**2))\n",
    "\n",
    "print(\"(L2) Norm of original vector: {}\".format(l2_norm(v)))\n",
    "print(\"(L2) Norm of rotated vector: {}\".format(l2_norm(rotated)))\n",
    "print(\"(L2) Norm of projected vector: {}\".format(l2_norm(projected)))"
   ]
  },
  {
   "cell_type": "markdown",
   "metadata": {},
   "source": [
    "* The norm of the vector does not change when we rotate it.\n",
    "* The norm of the vector decreases when we project it onto a vector other than itself. "
   ]
  },
  {
   "cell_type": "markdown",
   "metadata": {},
   "source": [
    "### e."
   ]
  },
  {
   "cell_type": "code",
   "execution_count": 8,
   "metadata": {},
   "outputs": [
    {
     "data": {
      "image/png": "[encoded data removed]",
      "text/plain": [
       "<Figure size 432x288 with 1 Axes>"
      ]
     },
     "metadata": {
      "needs_background": "light"
     },
     "output_type": "display_data"
    }
   ],
   "source": [
    "f, ax = plt.subplots(1)\n",
    "ax.plot((0,rotation_matrix.T[0][0]), (0,rotation_matrix.T[0][1]), 'ro-', label=\"Rotation\")\n",
    "ax.plot((0,rotation_matrix.T[1][0]), (0,rotation_matrix.T[1][1]), 'ro-')\n",
    "ax.plot((0,proj_matrix.T[0][0]), (0,proj_matrix.T[0][1]), 'bo-', label=\"Projection\")\n",
    "ax.plot((0,proj_matrix.T[1][0]), (0,proj_matrix.T[1][1]), 'bo-')\n",
    "ax.add_artist(plt.Circle((0, 0), 1, color=\"gray\")) # Unit circle\n",
    "plt.xlim([-1,1])\n",
    "plt.ylim([-1,1])\n",
    "plt.grid()\n",
    "plt.legend()\n",
    "plt.show()"
   ]
  },
  {
   "cell_type": "markdown",
   "metadata": {},
   "source": [
    "* The columns of the rotation matrix is perpendicular to each other since the x and y axices are perpendicular to each other. It can be tought as the rotation of the coordinate system as well. Also, they have unit length which do not cause a change in the norm of the rotated vector.\n",
    "* The columns of the projection matrix have the same direction but in opposite ways. In addition, the direction the columns is the same with the vector to be projected onto. Note that, the norm of the columns are less than 1, which causes a decrease in the norm of projected vector."
   ]
  },
  {
   "cell_type": "markdown",
   "metadata": {},
   "source": [
    "## Question 2:"
   ]
  },
  {
   "cell_type": "code",
   "execution_count": 9,
   "metadata": {},
   "outputs": [
    {
     "data": {
      "text/plain": [
       "array([ 0.49671415, -0.1382643 ,  0.64768854,  1.52302986, -0.23415337])"
      ]
     },
     "execution_count": 9,
     "metadata": {},
     "output_type": "execute_result"
    }
   ],
   "source": [
    "np.random.seed(42)\n",
    "v = np.random.standard_normal(size=(5))\n",
    "v"
   ]
  },
  {
   "cell_type": "markdown",
   "metadata": {},
   "source": [
    "### a."
   ]
  },
  {
   "cell_type": "code",
   "execution_count": 10,
   "metadata": {},
   "outputs": [
    {
     "data": {
      "text/plain": [
       "array([-0.23415337, -0.1382643 ,  0.49671415,  0.64768854,  1.52302986])"
      ]
     },
     "execution_count": 10,
     "metadata": {},
     "output_type": "execute_result"
    }
   ],
   "source": [
    "S = np.array([\n",
    "    [0, 0, 0, 0, 1],\n",
    "    [0, 1, 0, 0, 0],\n",
    "    [1, 0, 0, 0, 0],\n",
    "    [0, 0, 1, 0, 0],\n",
    "    [0, 0, 0, 1, 0]\n",
    "], dtype=\"float64\")\n",
    "v_s = S.dot(v)\n",
    "v_s"
   ]
  },
  {
   "cell_type": "markdown",
   "metadata": {},
   "source": [
    "### b."
   ]
  },
  {
   "cell_type": "code",
   "execution_count": 11,
   "metadata": {},
   "outputs": [
    {
     "data": {
      "text/plain": [
       "array([[0., 0., 0., 0., 1.],\n",
       "       [0., 0., 0., 1., 0.],\n",
       "       [0., 0., 1., 0., 0.],\n",
       "       [0., 1., 0., 0., 0.],\n",
       "       [1., 0., 0., 0., 0.]])"
      ]
     },
     "execution_count": 11,
     "metadata": {},
     "output_type": "execute_result"
    }
   ],
   "source": [
    "K = np.eye(5)[::-1]\n",
    "K"
   ]
  },
  {
   "cell_type": "code",
   "execution_count": 12,
   "metadata": {},
   "outputs": [
    {
     "data": {
      "text/plain": [
       "array([ 1.52302986,  0.64768854,  0.49671415, -0.1382643 , -0.23415337])"
      ]
     },
     "execution_count": 12,
     "metadata": {},
     "output_type": "execute_result"
    }
   ],
   "source": [
    "v_k = K.dot(v_s)\n",
    "v_k"
   ]
  },
  {
   "cell_type": "markdown",
   "metadata": {},
   "source": [
    "### c."
   ]
  },
  {
   "cell_type": "code",
   "execution_count": 13,
   "metadata": {},
   "outputs": [
    {
     "data": {
      "text/plain": [
       "array([ 0.49671415,  1.52302986, -0.23415337,  0.64768854, -0.1382643 ])"
      ]
     },
     "execution_count": 13,
     "metadata": {},
     "output_type": "execute_result"
    }
   ],
   "source": [
    "v_z = S.dot(K.dot(v))\n",
    "v_z"
   ]
  },
  {
   "cell_type": "markdown",
   "metadata": {},
   "source": [
    "$ v_k $ and $v_z$ are different as expected because matrix multiplication is not commutative.\n",
    "$\n",
    "K \\times (S \\times v) \\neq S \\times (K \\times v)\n",
    "$"
   ]
  },
  {
   "cell_type": "markdown",
   "metadata": {},
   "source": [
    "### d."
   ]
  },
  {
   "cell_type": "code",
   "execution_count": 14,
   "metadata": {},
   "outputs": [
    {
     "data": {
      "text/plain": [
       "array([[1., 0., 0., 0., 0.],\n",
       "       [0., 0., 0., 1., 0.],\n",
       "       [0., 0., 0., 0., 1.],\n",
       "       [0., 0., 1., 0., 0.],\n",
       "       [0., 1., 0., 0., 0.]])"
      ]
     },
     "execution_count": 14,
     "metadata": {},
     "output_type": "execute_result"
    }
   ],
   "source": [
    "S_hat = np.array([\n",
    "    K.dot(row) for row in S\n",
    "], dtype=\"float64\")\n",
    "S_hat"
   ]
  },
  {
   "cell_type": "code",
   "execution_count": 15,
   "metadata": {},
   "outputs": [
    {
     "data": {
      "text/plain": [
       "array([ 0.49671415,  1.52302986, -0.23415337,  0.64768854, -0.1382643 ])"
      ]
     },
     "execution_count": 15,
     "metadata": {},
     "output_type": "execute_result"
    }
   ],
   "source": [
    "v_h = S_hat.dot(v)\n",
    "v_h"
   ]
  },
  {
   "cell_type": "markdown",
   "metadata": {},
   "source": [
    "### e."
   ]
  },
  {
   "cell_type": "markdown",
   "metadata": {},
   "source": [
    "Matrix multiplication has the associativity property:\n",
    "$ \\\\\n",
    "S \\times (K \\times v) = (S \\times K) \\times v = \\hat{S} \\times v\n",
    "$"
   ]
  },
  {
   "cell_type": "markdown",
   "metadata": {},
   "source": [
    "## Question 3:"
   ]
  },
  {
   "cell_type": "code",
   "execution_count": 16,
   "metadata": {},
   "outputs": [],
   "source": [
    "v = np.array([1, -4, 3, 7, 0, -3], dtype=\"float64\")"
   ]
  },
  {
   "cell_type": "markdown",
   "metadata": {},
   "source": [
    "### a."
   ]
  },
  {
   "cell_type": "code",
   "execution_count": 17,
   "metadata": {},
   "outputs": [
    {
     "data": {
      "text/plain": [
       "array([ 0.7,  4.7,  2.4, -1.1])"
      ]
     },
     "execution_count": 17,
     "metadata": {},
     "output_type": "execute_result"
    }
   ],
   "source": [
    "T = np.array([\n",
    "    [0.1, 0.3, 0.6, 0, 0, 0],\n",
    "    [0, 0.1, 0.3, 0.6, 0, 0],\n",
    "    [0, 0, 0.1, 0.3, 0.6, 0],\n",
    "    [0, 0, 0, 0.1, 0.3, 0.6]\n",
    "], dtype=\"float64\")\n",
    "v_hat = T.dot(v)\n",
    "v_hat"
   ]
  },
  {
   "cell_type": "code",
   "execution_count": 18,
   "metadata": {},
   "outputs": [
    {
     "data": {
      "text/plain": [
       "array([[0.1, 0.3, 0.6, 0. , 0. , 0. ],\n",
       "       [0. , 0.1, 0.3, 0.6, 0. , 0. ],\n",
       "       [0. , 0. , 0.1, 0.3, 0.6, 0. ],\n",
       "       [0. , 0. , 0. , 0.1, 0.3, 0.6]])"
      ]
     },
     "execution_count": 18,
     "metadata": {},
     "output_type": "execute_result"
    }
   ],
   "source": [
    "T"
   ]
  },
  {
   "cell_type": "markdown",
   "metadata": {},
   "source": [
    "### b."
   ]
  },
  {
   "cell_type": "markdown",
   "metadata": {},
   "source": [
    "If T is a linear function then it has to satisfy superposition propertity:\n",
    "$\n",
    "f(\\alpha x + \\beta y) = \\alpha f(x) + \\beta f(y)\n",
    "$"
   ]
  },
  {
   "cell_type": "code",
   "execution_count": 19,
   "metadata": {},
   "outputs": [],
   "source": [
    "x = np.random.normal(size=6)\n",
    "y = np.random.normal(size=6)\n",
    "alpha = np.random.randint(1)\n",
    "beta = np.random.randint(1)"
   ]
  },
  {
   "cell_type": "code",
   "execution_count": 20,
   "metadata": {},
   "outputs": [],
   "source": [
    "lhs = T.dot(alpha * x + beta * y)\n",
    "rhs = alpha * T.dot(x) + beta * T.dot(y)"
   ]
  },
  {
   "cell_type": "code",
   "execution_count": 21,
   "metadata": {},
   "outputs": [
    {
     "name": "stdout",
     "output_type": "stream",
     "text": [
      "T is linear\n"
     ]
    }
   ],
   "source": [
    "if list(lhs) == list(rhs):\n",
    "    print(\"T is linear\")\n",
    "else:\n",
    "    print(\"T is not linear\")"
   ]
  },
  {
   "cell_type": "markdown",
   "metadata": {},
   "source": [
    "In fact, T does a convolution operation and convolution is a linear operation."
   ]
  },
  {
   "cell_type": "markdown",
   "metadata": {},
   "source": [
    "### c."
   ]
  },
  {
   "cell_type": "markdown",
   "metadata": {},
   "source": [
    "For a $\\hat{T}$, \\\n",
    "if $\n",
    " \\hat{T}\\hat{v} = v = \\hat{T}Tv = v\n",
    "$ \n",
    " then, \\\n",
    " $\n",
    "\\hat{T}T = I\n",
    "$ (Identity Matrix) \\\n",
    "To satisfy this $\\hat{T}$ must be equal to left inverse of $T$. ($T$ does not have an inverse matrix since it is not a square matrix.)"
   ]
  },
  {
   "cell_type": "markdown",
   "metadata": {},
   "source": [
    "If the columns of $T$ are linearly independent then it has left inverse. However, its columns are not independent."
   ]
  },
  {
   "cell_type": "markdown",
   "metadata": {},
   "source": [
    "To show that, we can use the QR-decomposition we wrote in the first assignment."
   ]
  },
  {
   "cell_type": "code",
   "execution_count": 22,
   "metadata": {},
   "outputs": [],
   "source": [
    "def gram_schmidt(matrix):\n",
    "    \n",
    "    transpose = np.copy(matrix).T\n",
    "    \n",
    "    Q = []\n",
    "    \n",
    "    for i, column in enumerate(transpose):\n",
    "        # Step 1 : Orthogonalization\n",
    "        q_tilda = column\n",
    "        \n",
    "        for prev in Q:\n",
    "            q_tilda -= np.dot(prev.T, column) * prev\n",
    "            \n",
    "        # Step 2 : Linear dependence test\n",
    "        if l2_norm(q_tilda) == 0: # Check if all zero\n",
    "            print(\"Linear Dependence found in column {}!\".format(i))\n",
    "            return np.array(Q).T\n",
    "        \n",
    "        # Step 3 : Normalization\n",
    "        q_norm = q_tilda/l2_norm(q_tilda)\n",
    "        Q.append(q_norm)\n",
    "        \n",
    "    return np.array(Q).T\n",
    "\n",
    "\n",
    "def qr_decomposition(matrix):\n",
    "    Q = gram_schmidt(matrix)\n",
    "    R = np.dot(Q.T, matrix)\n",
    "    \n",
    "    return Q, R"
   ]
  },
  {
   "cell_type": "code",
   "execution_count": 23,
   "metadata": {},
   "outputs": [
    {
     "name": "stdout",
     "output_type": "stream",
     "text": [
      "Linear Dependence found in column 4!\n"
     ]
    }
   ],
   "source": [
    "q, r = qr_decomposition(T)"
   ]
  },
  {
   "cell_type": "markdown",
   "metadata": {},
   "source": [
    "### d."
   ]
  },
  {
   "cell_type": "markdown",
   "metadata": {},
   "source": [
    "$\n",
    "\\hat{T} \\times \\hat{v} = v \n",
    "$\n",
    "\n",
    "$v$ is a $(6\\times1)$ vector and $\\hat{v}$ is $(4\\times1)$ vector. Thus $\\hat{T}$ must have the size of $(6\\times 4)$. Thus it is a tall matrix. \n",
    "Then $\n",
    "\\hat{T} \\times \\hat{v} = v \n",
    "$ is over-determined."
   ]
  },
  {
   "cell_type": "markdown",
   "metadata": {},
   "source": [
    "### e."
   ]
  },
  {
   "cell_type": "markdown",
   "metadata": {},
   "source": [
    "An approximate least square solution of \n",
    "$\n",
    "T \\times v = \\hat{v}\n",
    "$\n",
    "is\n",
    "$\n",
    "\\widetilde{v} = T^{\\dagger}\\hat{v}\n",
    "$. However, since T is a wide matrix it has only have right (pseudo-) inverse\n",
    "$\n",
    "T^{\\dagger} = (T^{T}T)^{-1}T^{T}\n",
    "$."
   ]
  },
  {
   "cell_type": "code",
   "execution_count": 24,
   "metadata": {},
   "outputs": [
    {
     "name": "stdout",
     "output_type": "stream",
     "text": [
      "T_dagger: \n",
      "[[ 0.27750658 -0.13845465  0.02370752  0.00723631]\n",
      " [ 0.69406508 -0.06896774 -0.07977855  0.04541643]\n",
      " [ 1.27338303  0.05755964  0.03593802 -0.02391427]\n",
      " [-0.75236903  1.64938147 -0.00467259  0.00438773]\n",
      " [ 0.16395401 -0.83428401  1.66301329  0.00179185]\n",
      " [ 0.04341783  0.14224509 -0.83072788  1.66503946]]\n"
     ]
    }
   ],
   "source": [
    "T_dagger = T.T.dot(np.linalg.inv(T.dot(T.T)))\n",
    "print(\"T_dagger: \\n{}\".format(T_dagger))"
   ]
  },
  {
   "cell_type": "code",
   "execution_count": 25,
   "metadata": {},
   "outputs": [
    {
     "name": "stdout",
     "output_type": "stream",
     "text": [
      "V_tilde: \n",
      "[-0.40754414 -0.07972939  1.27445538  7.20939387  0.18289383 -3.1263459 ]\n"
     ]
    }
   ],
   "source": [
    "v_tilde = T_dagger.dot(v_hat)\n",
    "print(\"V_tilde: \\n{}\".format(v_tilde))"
   ]
  },
  {
   "cell_type": "markdown",
   "metadata": {},
   "source": [
    "### f."
   ]
  },
  {
   "cell_type": "markdown",
   "metadata": {},
   "source": [
    "According to equation $\n",
    " \\hat{T}\\hat{v} = v$ \\\n",
    " $ \\hat{T}Tv = v\n",
    "$ \\\n",
    "$\\hat{T}$ is left (pseudo-)inverse of T. However, since T is a wide matrix it can only have a right inverse. Thus $\\hat{T}$ is not (pseudo-)inverse of T."
   ]
  },
  {
   "cell_type": "markdown",
   "metadata": {},
   "source": [
    "## Question 4:"
   ]
  },
  {
   "cell_type": "markdown",
   "metadata": {},
   "source": [
    "### a."
   ]
  },
  {
   "cell_type": "markdown",
   "metadata": {},
   "source": [
    "Not invertible. If $A = -B$ then $ A + B = 0$\\\n",
    "$0$ matrix is not invertible."
   ]
  },
  {
   "cell_type": "markdown",
   "metadata": {},
   "source": [
    "### b."
   ]
  },
  {
   "cell_type": "markdown",
   "metadata": {},
   "source": [
    "Invertible.\n",
    "$\n",
    "\\begin{bmatrix}\n",
    "A & 0 \\\\\n",
    "0 & B\n",
    "\\end{bmatrix}\n",
    "$\n",
    "$\n",
    "\\begin{bmatrix}\n",
    "A^{-1} & 0 \\\\\n",
    "0 & B^{-1}\n",
    "\\end{bmatrix}\n",
    "$\n",
    "$\n",
    "=\n",
    "\\begin{bmatrix}\n",
    "AA^{-1} & 0 \\\\\n",
    "0 & BB^{-1}\n",
    "\\end{bmatrix}\n",
    "$\n",
    "$\n",
    "=\n",
    "\\begin{bmatrix}\n",
    "I & 0 \\\\\n",
    "0 & I\n",
    "\\end{bmatrix}\n",
    "= I\n",
    "$\n"
   ]
  },
  {
   "cell_type": "markdown",
   "metadata": {},
   "source": [
    "### c."
   ]
  },
  {
   "cell_type": "markdown",
   "metadata": {},
   "source": [
    "Invertible. \n",
    "By doing row operations:\n",
    "$\n",
    "\\begin{bmatrix}\n",
    "A & 0 \\\\\n",
    "A+B & B\n",
    "\\end{bmatrix}\n",
    "$\n",
    "$\n",
    "=\n",
    "\\begin{bmatrix}\n",
    "A & 0 \\\\\n",
    "B & B\n",
    "\\end{bmatrix}\n",
    "$ \n",
    "and \\\n",
    "$\n",
    "\\begin{bmatrix}\n",
    "A & 0 \\\\\n",
    "B & B\n",
    "\\end{bmatrix}^{T}\n",
    "=\n",
    "$\n",
    "$\n",
    "\\begin{bmatrix}\n",
    "A & B \\\\\n",
    "0 & B\n",
    "\\end{bmatrix}\n",
    "$\n",
    "-> Apply row operations:\n",
    "$\n",
    "\\begin{bmatrix}\n",
    "A & 0 \\\\\n",
    "0 & B\n",
    "\\end{bmatrix}\n",
    "$\\\n",
    "Transpose back:\n",
    "$\n",
    "\\begin{bmatrix}\n",
    "A & 0 \\\\\n",
    "0 & B\n",
    "\\end{bmatrix}^{T}\n",
    "=\n",
    "\\begin{bmatrix}\n",
    "A & 0 \\\\\n",
    "0 & B\n",
    "\\end{bmatrix}\n",
    "$\n",
    ", which is the same as the matrix given in section 4.b, which is invertible. "
   ]
  },
  {
   "cell_type": "markdown",
   "metadata": {},
   "source": [
    "### d."
   ]
  },
  {
   "cell_type": "markdown",
   "metadata": {},
   "source": [
    "Invertible. Since $A$ and $B$ are square matrices, $(ABA)^{-1} = A^{-1}B^{-1}A^{-1}$"
   ]
  },
  {
   "cell_type": "markdown",
   "metadata": {},
   "source": [
    "## Question 5:"
   ]
  },
  {
   "cell_type": "markdown",
   "metadata": {},
   "source": [
    "### a."
   ]
  },
  {
   "cell_type": "code",
   "execution_count": 26,
   "metadata": {},
   "outputs": [],
   "source": [
    "x = np.linspace(-1, 1, 20)"
   ]
  },
  {
   "cell_type": "markdown",
   "metadata": {},
   "source": [
    "### b."
   ]
  },
  {
   "cell_type": "code",
   "execution_count": 41,
   "metadata": {},
   "outputs": [
    {
     "data": {
      "image/png": "[encoded data removed]",
      "text/plain": [
       "<Figure size 432x288 with 1 Axes>"
      ]
     },
     "metadata": {
      "needs_background": "light"
     },
     "output_type": "display_data"
    }
   ],
   "source": [
    "period = 1.5\n",
    "sigma = 0.1\n",
    "epsilon = np.random.normal(0, sigma, size = x.shape)\n",
    "y = np.sin(2*np.pi*x/period) + epsilon\n",
    "plt.scatter(x, y)\n",
    "plt.show()"
   ]
  },
  {
   "cell_type": "markdown",
   "metadata": {},
   "source": [
    "### c."
   ]
  },
  {
   "cell_type": "code",
   "execution_count": 28,
   "metadata": {},
   "outputs": [
    {
     "name": "stdout",
     "output_type": "stream",
     "text": [
      "(20, 10)\n"
     ]
    }
   ],
   "source": [
    "def vandermonde(vector, degree):\n",
    "    return np.array([vector**i for i in range(degree)]).T\n",
    "V = np.vander(x, 10, increasing=True)#vandermonde(x, 10)\n",
    "print(V.shape)"
   ]
  },
  {
   "cell_type": "markdown",
   "metadata": {},
   "source": [
    "### d."
   ]
  },
  {
   "cell_type": "code",
   "execution_count": 29,
   "metadata": {},
   "outputs": [],
   "source": [
    "q, r = np.linalg.qr(V)"
   ]
  },
  {
   "cell_type": "code",
   "execution_count": 30,
   "metadata": {},
   "outputs": [
    {
     "data": {
      "image/png": "[encoded data removed]",
      "text/plain": [
       "<Figure size 432x288 with 1 Axes>"
      ]
     },
     "metadata": {
      "needs_background": "light"
     },
     "output_type": "display_data"
    }
   ],
   "source": [
    "plt.scatter(x, q.T[0], label=\"0th-column\")\n",
    "plt.scatter(x, y, label=\"Original\")\n",
    "    \n",
    "plt.legend(loc=1)\n",
    "plt.show()"
   ]
  },
  {
   "cell_type": "code",
   "execution_count": 31,
   "metadata": {},
   "outputs": [
    {
     "data": {
      "image/png": "[encoded data removed]",
      "text/plain": [
       "<Figure size 432x288 with 1 Axes>"
      ]
     },
     "metadata": {
      "needs_background": "light"
     },
     "output_type": "display_data"
    }
   ],
   "source": [
    "plt.scatter(x, q.T[1], label=\"1th-column\")\n",
    "plt.scatter(x, y, label=\"Original\")\n",
    "    \n",
    "plt.legend(loc=1)\n",
    "plt.show()"
   ]
  },
  {
   "cell_type": "code",
   "execution_count": 32,
   "metadata": {},
   "outputs": [
    {
     "data": {
      "image/png": "[encoded data removed]",
      "text/plain": [
       "<Figure size 432x288 with 1 Axes>"
      ]
     },
     "metadata": {
      "needs_background": "light"
     },
     "output_type": "display_data"
    }
   ],
   "source": [
    "plt.scatter(x, q.T[2], label=\"2nd-column\")\n",
    "plt.scatter(x, y, label=\"Original\")\n",
    "    \n",
    "plt.legend(loc=1)\n",
    "plt.show()"
   ]
  },
  {
   "cell_type": "code",
   "execution_count": 33,
   "metadata": {},
   "outputs": [
    {
     "data": {
      "image/png": "[encoded data removed]",
      "text/plain": [
       "<Figure size 432x288 with 1 Axes>"
      ]
     },
     "metadata": {
      "needs_background": "light"
     },
     "output_type": "display_data"
    }
   ],
   "source": [
    "plt.scatter(x, q.T[3], label=\"3th-column\")\n",
    "plt.scatter(x, y, label=\"Original\")\n",
    "    \n",
    "plt.legend(loc=1)\n",
    "plt.show()"
   ]
  },
  {
   "cell_type": "code",
   "execution_count": 34,
   "metadata": {},
   "outputs": [
    {
     "data": {
      "image/png": "[encoded data removed]",
      "text/plain": [
       "<Figure size 432x288 with 1 Axes>"
      ]
     },
     "metadata": {
      "needs_background": "light"
     },
     "output_type": "display_data"
    }
   ],
   "source": [
    "plt.scatter(x, q.T[4], label=\"4th-column\")\n",
    "plt.scatter(x, y, label=\"Original\")\n",
    "    \n",
    "plt.legend(loc=1)\n",
    "plt.show()"
   ]
  },
  {
   "cell_type": "markdown",
   "metadata": {},
   "source": [
    "### e."
   ]
  },
  {
   "cell_type": "markdown",
   "metadata": {},
   "source": [
    "If $ y = Qc^{(j)} $ then $ Q^{-1}y = c^{(j)}$\\\n",
    "Then we can obtain $y^{(j)} = Qc^{(j)}$"
   ]
  },
  {
   "cell_type": "code",
   "execution_count": 35,
   "metadata": {},
   "outputs": [
    {
     "data": {
      "image/png": "[encoded data removed]",
      "text/plain": [
       "<Figure size 432x288 with 1 Axes>"
      ]
     },
     "metadata": {
      "needs_background": "light"
     },
     "output_type": "display_data"
    }
   ],
   "source": [
    "c = np.linalg.pinv(q).dot(y)\n",
    "c_1 = c.copy()\n",
    "c_1[1:] = 0\n",
    "c_5 = c.copy()\n",
    "c_5[5:] = 0\n",
    "c_10 = c.copy()\n",
    "\n",
    "plt.scatter(x, y, label=\"Original\")\n",
    "plt.plot(x, q.dot(c_1), label = \"j = 1\")\n",
    "plt.plot(x, q.dot(c_5), label = \"j = 5\")\n",
    "plt.plot(x, q.dot(c_10), label = \"j = 10\")\n",
    "plt.legend(loc=1)\n",
    "plt.show()"
   ]
  },
  {
   "cell_type": "code",
   "execution_count": 36,
   "metadata": {},
   "outputs": [
    {
     "name": "stdout",
     "output_type": "stream",
     "text": [
      "Error when j=1 : 12.3351292825374\n",
      "Error when j=5 : 4.332901948009549\n",
      "Error when j=10 : 0.12662360615665313\n"
     ]
    }
   ],
   "source": [
    "def abs_error(original, pred):\n",
    "    return np.sum(np.abs(original-pred))\n",
    "\n",
    "print(\"Error when j=1 : {}\".format(abs_error(y, q.dot(c_1))))\n",
    "print(\"Error when j=5 : {}\".format(abs_error(y, q.dot(c_5))))\n",
    "print(\"Error when j=10 : {}\".format(abs_error(y, q.dot(c_10))))"
   ]
  },
  {
   "cell_type": "markdown",
   "metadata": {},
   "source": [
    "As expected when we increase the order of the polynomial used in the model, the error decreases, meaning that the model fits the data in a better way."
   ]
  },
  {
   "cell_type": "markdown",
   "metadata": {},
   "source": [
    "### f."
   ]
  },
  {
   "cell_type": "markdown",
   "metadata": {},
   "source": [
    "We can apply the formula we adapted in question 5.e. Instead of $Q$, we use $V$."
   ]
  },
  {
   "cell_type": "code",
   "execution_count": 37,
   "metadata": {},
   "outputs": [
    {
     "data": {
      "image/png": "[encoded data removed]",
      "text/plain": [
       "<Figure size 432x288 with 1 Axes>"
      ]
     },
     "metadata": {
      "needs_background": "light"
     },
     "output_type": "display_data"
    }
   ],
   "source": [
    "c = np.linalg.pinv(V).dot(y)\n",
    "c_1 = c.copy()\n",
    "c_1[1:] = 0\n",
    "c_5 = c.copy()\n",
    "c_5[5:] = 0\n",
    "c_10 = c.copy()\n",
    "\n",
    "plt.scatter(x, y, label=\"Original\")\n",
    "plt.plot(x, V.dot(c_1), label = \"j = 1\")\n",
    "plt.plot(x, V.dot(c_5), label = \"j = 5\")\n",
    "plt.plot(x, V.dot(c_10), label = \"j = 10\")\n",
    "plt.legend(loc=1)\n",
    "plt.show()"
   ]
  },
  {
   "cell_type": "code",
   "execution_count": 38,
   "metadata": {},
   "outputs": [
    {
     "name": "stdout",
     "output_type": "stream",
     "text": [
      "Error when j=1 : 12.335129282537402\n",
      "Error when j=5 : 32.51588836771971\n",
      "Error when j=10 : 0.1266236061566654\n"
     ]
    }
   ],
   "source": [
    "print(\"Error when j=1 : {}\".format(abs_error(y, V.dot(c_1))))\n",
    "print(\"Error when j=5 : {}\".format(abs_error(y, V.dot(c_5))))\n",
    "print(\"Error when j=10 : {}\".format(abs_error(y, V.dot(c_10))))"
   ]
  },
  {
   "cell_type": "markdown",
   "metadata": {},
   "source": [
    "Using $Q$ to approximate $y$ worked better compared to $V$, especially when $j$ is 5. Since $Q$ is **orthogonal matrix**, its columns (are orthonormal) represented better the features of the data samples."
   ]
  },
  {
   "cell_type": "markdown",
   "metadata": {},
   "source": [
    "$V$ and $Q$ span the same subspace because we can construct every column of $V$ using a linear combination of the columns of $Q$. Thus, they both span the same subspace."
   ]
  },
  {
   "cell_type": "code",
   "execution_count": null,
   "metadata": {},
   "outputs": [],
   "source": []
  }
 ],
 "metadata": {
  "kernelspec": {
   "display_name": "cmpe482",
   "language": "python",
   "name": "cmpe482"
  },
  "language_info": {
   "codemirror_mode": {
    "name": "ipython",
    "version": 3
   },
   "file_extension": ".py",
   "mimetype": "text/x-python",
   "name": "python",
   "nbconvert_exporter": "python",
   "pygments_lexer": "ipython3",
   "version": "3.8.5"
  }
 },
 "nbformat": 4,
 "nbformat_minor": 4
}
