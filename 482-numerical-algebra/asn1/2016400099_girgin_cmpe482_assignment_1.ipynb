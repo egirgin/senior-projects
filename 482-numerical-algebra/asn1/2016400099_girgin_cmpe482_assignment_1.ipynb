{
 "cells": [
  {
   "cell_type": "markdown",
   "metadata": {},
   "source": [
    "# CmpE 482 - Spring2021 - Assignment 1"
   ]
  },
  {
   "cell_type": "code",
   "execution_count": 1,
   "metadata": {},
   "outputs": [
    {
     "name": "stdout",
     "output_type": "stream",
     "text": [
      "/snap/jupyter/6/bin/python\r\n"
     ]
    }
   ],
   "source": [
    "!which python"
   ]
  },
  {
   "cell_type": "markdown",
   "metadata": {},
   "source": [
    "**Student ID:** 2016400099 \\\n",
    "**Name Surname:** Emre Girgin \\\n",
    "**Date:** 03.04.2021"
   ]
  },
  {
   "cell_type": "markdown",
   "metadata": {},
   "source": [
    "## Question 1:"
   ]
  },
  {
   "cell_type": "code",
   "execution_count": 2,
   "metadata": {},
   "outputs": [],
   "source": [
    "import numpy as np"
   ]
  },
  {
   "cell_type": "code",
   "execution_count": 2,
   "metadata": {},
   "outputs": [
    {
     "data": {
      "text/plain": [
       "array([[ 1.31718001, -0.41530465, -0.1874096 , -0.17651112, -0.82940197],\n",
       "       [ 1.45051415,  0.49749881, -0.44835019, -0.95435331, -0.15280355],\n",
       "       [ 0.1511966 ,  0.00339588,  0.76377837,  0.56928527,  1.44110529],\n",
       "       [ 0.34053024,  0.25333274, -1.30403334, -1.15619518, -0.57586664],\n",
       "       [-0.14336808, -1.07977862,  0.34831781,  0.13620429,  0.76887891]])"
      ]
     },
     "execution_count": 2,
     "metadata": {},
     "output_type": "execute_result"
    }
   ],
   "source": [
    "X = np.random.standard_normal(size=(5,5))\n",
    "X"
   ]
  },
  {
   "cell_type": "code",
   "execution_count": 3,
   "metadata": {},
   "outputs": [],
   "source": [
    "# To calculate the norm of a given vector\n",
    "def l2_norm(vector):\n",
    "    return np.sqrt(sum(vector**2))\n",
    "\n",
    "def gram_schmidt(matrix):\n",
    "    \n",
    "    transpose = np.copy(matrix).T\n",
    "    \n",
    "    Q = []\n",
    "    \n",
    "    for i, column in enumerate(transpose):\n",
    "        # Step 1 : Orthogonalization\n",
    "        q_tilda = column\n",
    "        \n",
    "        for prev in Q:\n",
    "            q_tilda -= np.dot(prev.T, column) * prev\n",
    "            \n",
    "        # Step 2 : Linear dependence test\n",
    "        if l2_norm(q_tilda) == 0: # Check if all zero\n",
    "            print(\"Linear Dependence found in column {}!\".format(i))\n",
    "            return np.array(Q).T\n",
    "        \n",
    "        # Step 3 : Normalization\n",
    "        q_norm = q_tilda/l2_norm(q_tilda)\n",
    "        Q.append(q_norm)\n",
    "        \n",
    "    return np.array(Q).T\n",
    "\n",
    "\n",
    "def qr_decomposition(matrix):\n",
    "    Q = gram_schmidt(matrix)\n",
    "    R = np.dot(Q.T, matrix)\n",
    "    \n",
    "    return Q, R"
   ]
  },
  {
   "cell_type": "code",
   "execution_count": 4,
   "metadata": {},
   "outputs": [],
   "source": [
    "Q, R = qr_decomposition(X)"
   ]
  },
  {
   "cell_type": "markdown",
   "metadata": {},
   "source": [
    "### a) \n",
    "Since Q is an orthonormal vector, the result is identity matrix as expected. "
   ]
  },
  {
   "cell_type": "code",
   "execution_count": 5,
   "metadata": {},
   "outputs": [
    {
     "data": {
      "text/plain": [
       "array([[ 1., -0., -0., -0., -0.],\n",
       "       [-0.,  1., -0., -0.,  0.],\n",
       "       [-0., -0.,  1., -0., -0.],\n",
       "       [-0., -0., -0.,  1.,  0.],\n",
       "       [-0.,  0., -0.,  0.,  1.]])"
      ]
     },
     "execution_count": 5,
     "metadata": {},
     "output_type": "execute_result"
    }
   ],
   "source": [
    "np.round(Q.T @ Q)"
   ]
  },
  {
   "cell_type": "markdown",
   "metadata": {},
   "source": [
    "### b)\n",
    "Q.T @ Q and Q @ Q.T is the same if Q is orthonormal matrix. Thus the result is identity matrix."
   ]
  },
  {
   "cell_type": "code",
   "execution_count": 6,
   "metadata": {},
   "outputs": [
    {
     "data": {
      "text/plain": [
       "array([[ 1., -0., -0., -0., -0.],\n",
       "       [-0.,  1., -0., -0.,  0.],\n",
       "       [-0., -0.,  1., -0.,  0.],\n",
       "       [-0., -0., -0.,  1., -0.],\n",
       "       [-0.,  0.,  0., -0.,  1.]])"
      ]
     },
     "execution_count": 6,
     "metadata": {},
     "output_type": "execute_result"
    }
   ],
   "source": [
    "np.round(Q @ Q.T)"
   ]
  },
  {
   "cell_type": "markdown",
   "metadata": {},
   "source": [
    "### c)\n",
    "R is an upper triangular matrix. I added the QR-decomposition implementation of the numpy for **sanity checking**."
   ]
  },
  {
   "cell_type": "code",
   "execution_count": 7,
   "metadata": {},
   "outputs": [
    {
     "data": {
      "text/plain": [
       "array([[2., 0., 1., 1., 1.],\n",
       "       [0., 1., 1., 1., 0.],\n",
       "       [0., 0., 1., 1., 1.],\n",
       "       [0., 0., 0., 0., 1.],\n",
       "       [0., 0., 0., 0., 1.]])"
      ]
     },
     "execution_count": 7,
     "metadata": {},
     "output_type": "execute_result"
    }
   ],
   "source": [
    "np.abs(np.round(R))"
   ]
  },
  {
   "cell_type": "code",
   "execution_count": 8,
   "metadata": {},
   "outputs": [
    {
     "data": {
      "text/plain": [
       "array([[2., 0., 1., 1., 1.],\n",
       "       [0., 1., 1., 1., 0.],\n",
       "       [0., 0., 1., 1., 1.],\n",
       "       [0., 0., 0., 0., 1.],\n",
       "       [0., 0., 0., 0., 1.]])"
      ]
     },
     "execution_count": 8,
     "metadata": {},
     "output_type": "execute_result"
    }
   ],
   "source": [
    "np.abs(np.round(np.linalg.qr(X)[1])) # R from QR factorization of numpy"
   ]
  },
  {
   "cell_type": "markdown",
   "metadata": {},
   "source": [
    "### d)\n",
    "If the columns of the matrix X is linearly independent, then we can reconstruct X using Q and R, since X = Q @ R. Thus, Q @ R - X = 0"
   ]
  },
  {
   "cell_type": "code",
   "execution_count": 9,
   "metadata": {},
   "outputs": [
    {
     "data": {
      "text/plain": [
       "array([[-0., -0., -0., -0.,  0.],\n",
       "       [ 0.,  0., -0.,  0.,  0.],\n",
       "       [-0., -0.,  0.,  0., -0.],\n",
       "       [-0.,  0., -0., -0.,  0.],\n",
       "       [ 0.,  0.,  0., -0.,  0.]])"
      ]
     },
     "execution_count": 9,
     "metadata": {},
     "output_type": "execute_result"
    }
   ],
   "source": [
    "np.round(Q @ R - X)"
   ]
  },
  {
   "cell_type": "markdown",
   "metadata": {},
   "source": [
    "## Question 2:"
   ]
  },
  {
   "cell_type": "code",
   "execution_count": 10,
   "metadata": {},
   "outputs": [],
   "source": [
    "import matplotlib.pyplot as plt"
   ]
  },
  {
   "cell_type": "code",
   "execution_count": 11,
   "metadata": {},
   "outputs": [],
   "source": [
    "Y = np.array([\n",
    "    [1, -4],\n",
    "    [2, 1]\n",
    "], dtype=\"float64\")"
   ]
  },
  {
   "cell_type": "code",
   "execution_count": 12,
   "metadata": {},
   "outputs": [
    {
     "data": {
      "image/png": "[encoded data removed]",
      "text/plain": [
       "<Figure size 432x288 with 1 Axes>"
      ]
     },
     "metadata": {
      "needs_background": "light"
     },
     "output_type": "display_data"
    }
   ],
   "source": [
    "plt.plot((0,Y[0,0]), (0,Y[1,0]), 'ro-')\n",
    "plt.plot((0,Y[0,1]), (0,Y[1,1]), 'bo-')\n",
    "plt.xlim([-5,5])\n",
    "plt.ylim([-5,5])\n",
    "plt.title(\"Columns of Y\")\n",
    "plt.show()"
   ]
  },
  {
   "cell_type": "code",
   "execution_count": 13,
   "metadata": {},
   "outputs": [],
   "source": [
    "Q, R = qr_decomposition(Y)"
   ]
  },
  {
   "cell_type": "code",
   "execution_count": 14,
   "metadata": {},
   "outputs": [
    {
     "data": {
      "image/png": "[encoded data removed]",
      "text/plain": [
       "<Figure size 432x288 with 1 Axes>"
      ]
     },
     "metadata": {
      "needs_background": "light"
     },
     "output_type": "display_data"
    }
   ],
   "source": [
    "f, ax = plt.subplots(1)\n",
    "ax.plot((0,Q[0,0]), (0,Q[1,0]), 'ro-')\n",
    "ax.plot((0,Q[0,1]), (0,Q[1,1]), 'bo-')\n",
    "ax.add_artist(plt.Circle((0, 0), 1, color=\"gray\")) # Unit circle\n",
    "plt.xlim([-2,2])\n",
    "plt.ylim([-2,2])\n",
    "plt.title(\"Orthonormal Columns of Q\")\n",
    "plt.show()"
   ]
  },
  {
   "cell_type": "markdown",
   "metadata": {},
   "source": [
    "The columns of Q are perpendicular to each other and they have unit length. "
   ]
  },
  {
   "cell_type": "markdown",
   "metadata": {},
   "source": [
    "## Question 3:"
   ]
  },
  {
   "cell_type": "code",
   "execution_count": 15,
   "metadata": {},
   "outputs": [],
   "source": [
    "from scipy.linalg import hilbert"
   ]
  },
  {
   "cell_type": "code",
   "execution_count": 16,
   "metadata": {},
   "outputs": [],
   "source": [
    "X = 1e-5*np.eye(200) + hilbert(200)"
   ]
  },
  {
   "cell_type": "markdown",
   "metadata": {},
   "source": [
    "### a) \n",
    "Apply QR factorization that uses original Gram-Schmidt algorithm."
   ]
  },
  {
   "cell_type": "code",
   "execution_count": 17,
   "metadata": {},
   "outputs": [],
   "source": [
    "Q_original, R_original = qr_decomposition(X)"
   ]
  },
  {
   "cell_type": "markdown",
   "metadata": {},
   "source": [
    "### b) \n",
    "Apply QR factorization that uses modified Gram-Schmidt algorithm."
   ]
  },
  {
   "cell_type": "code",
   "execution_count": 18,
   "metadata": {},
   "outputs": [],
   "source": [
    "def modified_gram_schmidt(matrix):\n",
    "    transpose = np.copy(matrix).T\n",
    "    \n",
    "    Q = []\n",
    "    \n",
    "    for i in range(len(transpose)):\n",
    "        \n",
    "        column = transpose[i]\n",
    "        \n",
    "        q = column/l2_norm(column)\n",
    "        Q.append(q)\n",
    "        \n",
    "        for j in range(i+1, len(transpose)):\n",
    "            \n",
    "            proj = np.dot(q.T, transpose[j])\n",
    "            \n",
    "            transpose[j] -= proj*q\n",
    "        \n",
    "    return np.array(Q).T\n",
    "\n",
    "\n",
    "def modified_QR(matrix):\n",
    "    Q = modified_gram_schmidt(matrix)\n",
    "    R = np.dot(Q.T, matrix)\n",
    "    \n",
    "    return Q, R\n",
    "    "
   ]
  },
  {
   "cell_type": "code",
   "execution_count": 19,
   "metadata": {},
   "outputs": [],
   "source": [
    "Q_modified, R_modified = modified_QR(X)"
   ]
  },
  {
   "cell_type": "markdown",
   "metadata": {},
   "source": [
    "### c)\n",
    "Calculate the error: The value of the largest entry (in absolute value)"
   ]
  },
  {
   "cell_type": "code",
   "execution_count": 20,
   "metadata": {},
   "outputs": [],
   "source": [
    "error_original = np.eye(200) - np.dot(Q_original.T, Q_original)"
   ]
  },
  {
   "cell_type": "code",
   "execution_count": 21,
   "metadata": {},
   "outputs": [
    {
     "name": "stdout",
     "output_type": "stream",
     "text": [
      "Error of original G-S Algorithm: 1.6994325412308448e-11\n"
     ]
    }
   ],
   "source": [
    "print(\"Error of original G-S Algorithm: {}\".format(\n",
    "np.max(np.abs(error_original))\n",
    "))"
   ]
  },
  {
   "cell_type": "code",
   "execution_count": 22,
   "metadata": {},
   "outputs": [],
   "source": [
    "error_modified = np.eye(200) - np.dot(Q_modified.T, Q_modified)"
   ]
  },
  {
   "cell_type": "code",
   "execution_count": 23,
   "metadata": {},
   "outputs": [
    {
     "name": "stdout",
     "output_type": "stream",
     "text": [
      "Error of modified G-S Algorithm: 1.6994325412308448e-11\n"
     ]
    }
   ],
   "source": [
    "print(\"Error of modified G-S Algorithm: {}\".format(\n",
    "np.max(np.abs(error_modified))\n",
    "))\n"
   ]
  },
  {
   "cell_type": "markdown",
   "metadata": {},
   "source": [
    "The both algoritms produced the same error which is very small. Thus we can say that those both algorithms works correctly and at the same performance in terms of accuracy. "
   ]
  },
  {
   "cell_type": "markdown",
   "metadata": {},
   "source": [
    "## Question 4:"
   ]
  },
  {
   "cell_type": "code",
   "execution_count": 24,
   "metadata": {},
   "outputs": [],
   "source": [
    "import jax\n",
    "import jaxlib\n",
    "import jax.numpy as jnp"
   ]
  },
  {
   "cell_type": "code",
   "execution_count": 25,
   "metadata": {},
   "outputs": [],
   "source": [
    "def f(x):\n",
    "    return x**2 + 2*jnp.exp(x)"
   ]
  },
  {
   "cell_type": "code",
   "execution_count": 26,
   "metadata": {},
   "outputs": [],
   "source": [
    "df = jax.grad(f) # The first derivative\n",
    "ddf = jax.grad(df) # The second derivative\n",
    "dddf = jax.grad(ddf) # The third derivative"
   ]
  },
  {
   "cell_type": "code",
   "execution_count": 27,
   "metadata": {},
   "outputs": [],
   "source": [
    "# The following code is adopted from the lecture.\n",
    "def plot_taylors(x, f, df, ddf, dddf):\n",
    "    taylor0 = f(z) + 0*x\n",
    "    taylor1 = f(z) + df(z)*(x-z)\n",
    "    taylor2 = taylor1 + 0.5*ddf(z)*jnp.square(x-z)\n",
    "    taylor3 = taylor2 + dddf(z)*jnp.power(x-z, 3)/6\n",
    "    \n",
    "    plt.plot(x, f(x), label=\"Function\", linewidth=5)\n",
    "    plt.plot(x, taylor0, label=\"0th Taylor\", linewidth=5)\n",
    "    plt.plot(x, taylor1, \"--\", label=\"1st Taylor\", linewidth=5)\n",
    "    plt.plot(x, taylor2, \"-.\", label=\"2nd Taylor\", linewidth=5)\n",
    "    plt.plot(x, taylor3, \":\", label=\"3th Taylor\", linewidth=5)\n",
    "    plt.plot(z, f(z), \"o\", markersize=12, label=\"Reference point\")\n",
    "    plt.grid(True)\n",
    "    plt.axis(\"equal\")\n",
    "    plt.legend(prop={'size': 15})"
   ]
  },
  {
   "cell_type": "code",
   "execution_count": 28,
   "metadata": {},
   "outputs": [
    {
     "name": "stderr",
     "output_type": "stream",
     "text": [
      "WARNING:absl:No GPU/TPU found, falling back to CPU. (Set TF_CPP_MIN_LOG_LEVEL=0 and rerun for more info.)\n"
     ]
    },
    {
     "data": {
      "image/png": "[encoded data removed]",
      "text/plain": [
       "<Figure size 1080x1080 with 1 Axes>"
      ]
     },
     "metadata": {
      "needs_background": "light"
     },
     "output_type": "display_data"
    }
   ],
   "source": [
    "z = 0.5 \n",
    "x = jnp.arange(-2.,2., 0.01)\n",
    "plt.figure(figsize=(15,15))\n",
    "plot_taylors(x, f, df, ddf, dddf)\n",
    "plt.title(\"Taylor Approximation of f(x) = x^(2) + 2e^(x)\", size=25)\n",
    "plt.show()"
   ]
  },
  {
   "cell_type": "markdown",
   "metadata": {},
   "source": [
    "## Question 5:"
   ]
  },
  {
   "cell_type": "markdown",
   "metadata": {},
   "source": [
    "The hint provided from the original textbook (**Matrix Computations**) of the question is utilized. $ W = (C + D)(E - F)$"
   ]
  },
  {
   "cell_type": "markdown",
   "metadata": {},
   "source": [
    "If we distribute the multiplication, we obtain:\n",
    "\n",
    "$ A = CE - DF \\newline$ \n",
    "$ B = CF + DE $"
   ]
  },
  {
   "cell_type": "markdown",
   "metadata": {},
   "source": [
    "Then compute \n",
    "$\\newline W = (C + D)(E - F) = CE - CF + DE - DF$ \n",
    "and \n",
    "$\\newline X = (C - D)(E + F) = CE + CF - DE - DF$"
   ]
  },
  {
   "cell_type": "markdown",
   "metadata": {},
   "source": [
    "Hence $W + X$ gives $2(CE - DF)$ which is equal to $2A$. We did **two matrix multiplications in total** while calculating the $W$ and $X$ and found the A."
   ]
  },
  {
   "cell_type": "markdown",
   "metadata": {},
   "source": [
    "Also see that:\n",
    "$\\newline\n",
    "A - B - 2DE = CE - DF - CF - DE + 2DE = W \n",
    "$\n",
    "Then, since we know the value of $W$ and $A$ now, we can find the value of $B$ by just computing $2DE$ which requires **one matrix multiplication**. "
   ]
  },
  {
   "cell_type": "markdown",
   "metadata": {},
   "source": [
    "In total, we applied **three matrix multiplication** by calculating $W$, $X$, and $DE$.  "
   ]
  },
  {
   "cell_type": "markdown",
   "metadata": {},
   "source": [
    "## Question 6:"
   ]
  },
  {
   "cell_type": "markdown",
   "metadata": {},
   "source": [
    "Since we are testing whether $\\phi$ is a linear function we can treat it as a 3-vector $\\begin{bmatrix}x & y & z\\end{bmatrix}$."
   ]
  },
  {
   "cell_type": "markdown",
   "metadata": {},
   "source": [
    "$\n",
    "\\begin{bmatrix}\n",
    "1 & 1 & 0\n",
    "\\end{bmatrix}^{T}\n",
    "\\begin{bmatrix}\n",
    "x & y & z\n",
    "\\end{bmatrix}\n",
    "= -1 \\newline\n",
    "\\begin{bmatrix}\n",
    "-1 & 1 & 1\n",
    "\\end{bmatrix}^{T}\n",
    "\\begin{bmatrix}\n",
    "x & y & z\n",
    "\\end{bmatrix}\n",
    "= 1 \\newline\n",
    "\\begin{bmatrix}\n",
    "1 & -1 & -1\n",
    "\\end{bmatrix}^{T}\n",
    "\\begin{bmatrix}\n",
    "x & y & z\n",
    "\\end{bmatrix}\n",
    "= 1\n",
    "$\n",
    "\n",
    "The function $\\phi$ must satisfy the equations above. We compute those vector multiplications:"
   ]
  },
  {
   "cell_type": "markdown",
   "metadata": {},
   "source": [
    "$\n",
    "x + y = -1 \\newline\n",
    "-x + y + z = 1 \\newline\n",
    "x + -y + -z = 1\n",
    "$\n",
    "\n",
    "If we sum the second and the third row, they cancel out each other and we end up with an equation $ 0 = 2 $ which is wrong. Thus $\\phi$ function **can not be linear.** "
   ]
  }
 ],
 "metadata": {
  "kernelspec": {
   "display_name": "Python 3",
   "language": "python",
   "name": "python3"
  },
  "language_info": {
   "codemirror_mode": {
    "name": "ipython",
    "version": 3
   },
   "file_extension": ".py",
   "mimetype": "text/x-python",
   "name": "python",
   "nbconvert_exporter": "python",
   "pygments_lexer": "ipython3",
   "version": "3.7.3"
  }
 },
 "nbformat": 4,
 "nbformat_minor": 4
}
