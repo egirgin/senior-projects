{
 "cells": [
  {
   "cell_type": "markdown",
   "id": "94836a42",
   "metadata": {},
   "source": [
    "# Assignment 5\n",
    "\n",
    "**Name Surname**: Emre Girgin \\\n",
    "**Student ID**: 2016400099"
   ]
  },
  {
   "cell_type": "code",
   "execution_count": 1,
   "id": "169b391f",
   "metadata": {},
   "outputs": [
    {
     "name": "stdout",
     "output_type": "stream",
     "text": [
      "env: JAX_PLATFORM_NAME=cpu\n"
     ]
    }
   ],
   "source": [
    "import numpy as np\n",
    "import pandas as pd\n",
    "import matplotlib.pyplot as plt\n",
    "import jax \n",
    "import jax.numpy as jnp\n",
    "%env JAX_PLATFORM_NAME=cpu\n",
    "np.random.seed(0)"
   ]
  },
  {
   "cell_type": "markdown",
   "id": "f6aa96a2",
   "metadata": {},
   "source": [
    "## Question 1"
   ]
  },
  {
   "cell_type": "code",
   "execution_count": 2,
   "id": "c69329c9",
   "metadata": {},
   "outputs": [
    {
     "data": {
      "text/plain": [
       "array([[7.0, 3.2, 4.7, 1.4, 0],\n",
       "       [6.4, 3.2, 4.5, 1.5, 0],\n",
       "       [6.9, 3.1, 4.9, 1.5, 0],\n",
       "       [5.5, 2.3, 4.0, 1.3, 0],\n",
       "       [6.5, 2.8, 4.6, 1.5, 0]], dtype=object)"
      ]
     },
     "execution_count": 2,
     "metadata": {},
     "output_type": "execute_result"
    }
   ],
   "source": [
    "iris = pd.read_csv(\"iris.data\", names=[\"f0\", \"f1\", \"f2\", \"f3\", \"class\"])\n",
    "iris = iris.replace('Iris-versicolor', 0)\n",
    "iris = iris.replace('Iris-virginica', 1)\n",
    "iris = iris.to_numpy()[-100:]\n",
    "iris[:5]"
   ]
  },
  {
   "cell_type": "code",
   "execution_count": 3,
   "id": "8a814c7a",
   "metadata": {},
   "outputs": [],
   "source": [
    "A = iris[:,:-1].astype(\"float64\")\n",
    "y = iris[:,-1].astype(\"float64\")"
   ]
  },
  {
   "cell_type": "markdown",
   "id": "6bf092f6",
   "metadata": {},
   "source": [
    "### a."
   ]
  },
  {
   "cell_type": "code",
   "execution_count": 4,
   "id": "a2d65ca5",
   "metadata": {},
   "outputs": [
    {
     "data": {
      "text/plain": [
       "(100, 4)"
      ]
     },
     "execution_count": 4,
     "metadata": {},
     "output_type": "execute_result"
    }
   ],
   "source": [
    "A.shape"
   ]
  },
  {
   "cell_type": "code",
   "execution_count": 5,
   "id": "d0675227",
   "metadata": {},
   "outputs": [],
   "source": [
    "U, s_vector, V_T = np.linalg.svd(A)"
   ]
  },
  {
   "cell_type": "code",
   "execution_count": 6,
   "id": "fb3460f6",
   "metadata": {},
   "outputs": [],
   "source": [
    "sigma = np.zeros_like(A, dtype=\"float64\")\n",
    "for i, eigenvalue in enumerate(s_vector):\n",
    "    sigma[i,i] = eigenvalue"
   ]
  },
  {
   "cell_type": "code",
   "execution_count": 7,
   "id": "c4e9335c",
   "metadata": {},
   "outputs": [],
   "source": [
    "C = U @ sigma\n",
    "X = C[:, :2]"
   ]
  },
  {
   "cell_type": "code",
   "execution_count": 8,
   "id": "1d5cad5a",
   "metadata": {},
   "outputs": [
    {
     "data": {
      "image/png": "[encoded data removed]",
      "text/plain": [
       "<Figure size 720x288 with 1 Axes>"
      ]
     },
     "metadata": {
      "needs_background": "light"
     },
     "output_type": "display_data"
    }
   ],
   "source": [
    "fig, axes = plt.subplots(nrows=1, ncols=1, figsize=(10,4))\n",
    "colors = [\"r\" if label == 0 else \"b\" for label in y]\n",
    "axes.scatter(X[:,0], X[:,1], c=colors)\n",
    "plt.title(\"Red: Iris-Versicolor / Blue: Iris-Virginica\")\n",
    "plt.tight_layout()"
   ]
  },
  {
   "cell_type": "markdown",
   "id": "af0ea2e7",
   "metadata": {},
   "source": [
    "### b."
   ]
  },
  {
   "cell_type": "markdown",
   "id": "a1478dd3",
   "metadata": {},
   "source": [
    "We projected our dataset into a lower-dimensional subspace called *principal subspace*. The basis vectors for this subspace carried by the columns of the $V$ vector. (Mathematics for ML pg.327)"
   ]
  },
  {
   "cell_type": "code",
   "execution_count": 9,
   "id": "0a55d102",
   "metadata": {},
   "outputs": [
    {
     "name": "stdout",
     "output_type": "stream",
     "text": [
      "Basis for principal subspace: \n",
      "[[-0.7245005  -0.33128748 -0.57171318 -0.19619293]\n",
      " [-0.49696695 -0.30853471  0.63571744  0.50367998]]\n"
     ]
    }
   ],
   "source": [
    "print(\"Basis for principal subspace: \\n{}\".format(V_T[:2]))"
   ]
  },
  {
   "cell_type": "markdown",
   "id": "3dfe5701",
   "metadata": {},
   "source": [
    "## Question 2"
   ]
  },
  {
   "cell_type": "code",
   "execution_count": 10,
   "id": "dccdc658",
   "metadata": {},
   "outputs": [],
   "source": [
    "def sigmoid(value):\n",
    "    return 1 / (1 + jnp.exp(-value))"
   ]
  },
  {
   "cell_type": "code",
   "execution_count": 11,
   "id": "e7564a80",
   "metadata": {},
   "outputs": [],
   "source": [
    "def model(data, theta):\n",
    "    pred = sigmoid(jnp.dot(data, theta))\n",
    "    return pred"
   ]
  },
  {
   "cell_type": "code",
   "execution_count": 12,
   "id": "4d136726",
   "metadata": {},
   "outputs": [],
   "source": [
    "def logistic_loss(theta, data, labels):\n",
    "    preds = model(data, theta)\n",
    "    N = len(preds)\n",
    "    return 1/N * jnp.sum(\n",
    "        -labels * jnp.log(preds) - (1 - labels) * jnp.log(1-preds)\n",
    "    )"
   ]
  },
  {
   "cell_type": "markdown",
   "id": "0b27c9c2",
   "metadata": {},
   "source": [
    "### a."
   ]
  },
  {
   "cell_type": "markdown",
   "id": "21f2285c",
   "metadata": {},
   "source": [
    "$\n",
    "L(\\theta) = \n",
    "\\begin{cases} \n",
    "-log(h_{\\theta}(x)) & y = 1 \\\\\n",
    "-log(1-h_{\\theta}(x)) & y = 0 \n",
    "\\end{cases} = -ylog(h_{\\theta}(x)) - (1-y)log(1-h_{\\theta}(x))\n",
    "$\n",
    "where \n",
    "$\n",
    "h_{\\theta}(x) = \\frac{1}{1 + e^{-\\theta^T x}} \n",
    "$"
   ]
  },
  {
   "cell_type": "markdown",
   "id": "f2c5f898",
   "metadata": {},
   "source": [
    "The derivative of the sigmoid function is\n",
    "\n",
    "$\n",
    "\\sigma(x) = \\frac{1}{1+e^{-x}} \\\\\n",
    "\\frac{\\partial(\\sigma(x))}{\\partial x} = \\frac{0 * (1+e^{-2}) - (1) * (e^{-x} * (-1))}{(1 + e^{-x})^{2}}\\\\\n",
    "\\frac{\\partial(\\sigma(x))}{\\partial x} = \\frac{(e^{-x})}{(1 + e^{-x})^{2}} = \\frac{1-1 + (e^{-x})}{(1 + e^{-x})^{2}} = \\frac{1 + e{-x}}{(1 + e^{-x})^{2}} = \\frac{1}{(1 + e^{-x})^{2}} \\\\\n",
    "\\frac{\\partial(\\sigma(x))}{\\partial x} = \\frac{1}{1 + e^{-x}} * (1 - \\frac{1}{1 + e^{-x}}) = \\sigma(x)(1-\\sigma(x))\n",
    "$"
   ]
  },
  {
   "cell_type": "markdown",
   "id": "1794523e",
   "metadata": {},
   "source": [
    "$\n",
    "\\frac{\\partial L(\\theta)}{\\partial \\theta} = \\frac{\\partial L(\\theta)}{\\partial h_{\\theta}(x)}\\frac{\\partial h_{\\theta}(x)}{\\partial \\theta}\n",
    "$"
   ]
  },
  {
   "cell_type": "markdown",
   "id": "acafbe6c",
   "metadata": {},
   "source": [
    "$\n",
    "\\frac{\\partial L(\\theta)}{\\partial h_{\\theta}(x)} = \\frac{y}{h_{\\theta}(x)} - (1 - y)\\frac{-1}{1 - h_{\\theta}(x)} = \\frac{y}{h_{\\theta}(x)} + (1 - y)\\frac{1}{1 - h_{\\theta}(x)}\n",
    "$"
   ]
  },
  {
   "cell_type": "markdown",
   "id": "94ccb8bb",
   "metadata": {},
   "source": [
    "$\n",
    "\\frac{\\partial h_{\\theta}(x)}{\\partial \\theta} = \\frac{\\partial \\sigma(\\theta x)}{\\partial \\theta} = h_{\\theta}(x)(1 - h_{\\theta}(x))x\n",
    "$"
   ]
  },
  {
   "cell_type": "markdown",
   "id": "85c5b765",
   "metadata": {},
   "source": [
    "Calculate chain rule \\\n",
    "$\n",
    "\\frac{\\partial L(\\theta)}{\\partial \\theta} = \\frac{y}{h_{\\theta}(x)}h_{\\theta}(x)(1 - h_{\\theta}(x))x + \\frac{(1-y)}{(1-h_{\\theta}(x))}(-h_{\\theta}(x)(1-h_{\\theta}(x)))x\n",
    "$"
   ]
  },
  {
   "cell_type": "markdown",
   "id": "eeb569e2",
   "metadata": {},
   "source": [
    "After simplifying\n",
    "$\n",
    "\\frac{\\partial L(\\theta)}{\\partial \\theta} = x(h_{\\theta}(x) - y)\n",
    "$"
   ]
  },
  {
   "cell_type": "code",
   "execution_count": 13,
   "id": "cc3f62bb",
   "metadata": {},
   "outputs": [],
   "source": [
    "loss_grad = jax.grad(logistic_loss, argnums=0)"
   ]
  },
  {
   "cell_type": "markdown",
   "id": "e78eb5ce",
   "metadata": {},
   "source": [
    "### b."
   ]
  },
  {
   "cell_type": "code",
   "execution_count": 14,
   "id": "36725009",
   "metadata": {},
   "outputs": [],
   "source": [
    "theta_init = np.random.randn(2)/10"
   ]
  },
  {
   "cell_type": "code",
   "execution_count": 15,
   "id": "6bf58c08",
   "metadata": {},
   "outputs": [],
   "source": [
    "epochs = 10000\n",
    "learning_rate = 0.05"
   ]
  },
  {
   "cell_type": "code",
   "execution_count": 16,
   "id": "481da72f",
   "metadata": {},
   "outputs": [],
   "source": [
    "def train(inputs, labels, theta):\n",
    "    for epoch in range(epochs):\n",
    "        if epoch%1000 == 0:\n",
    "            print(\"Epoch: {} | Loss: {}\".format(epoch, logistic_loss(theta, inputs, labels)))\n",
    "        \n",
    "        grads = loss_grad(jax.numpy.asarray(theta),\n",
    "                          jax.numpy.asarray(inputs), \n",
    "                          jax.numpy.asarray(labels))\n",
    "        \n",
    "\n",
    "        theta -= learning_rate * grads\n",
    "        \n",
    "    return theta"
   ]
  },
  {
   "cell_type": "code",
   "execution_count": 17,
   "id": "6e2c79ff",
   "metadata": {},
   "outputs": [
    {
     "name": "stderr",
     "output_type": "stream",
     "text": [
      "WARNING:absl:No GPU/TPU found, falling back to CPU. (Set TF_CPP_MIN_LOG_LEVEL=0 and rerun for more info.)\n"
     ]
    },
    {
     "name": "stdout",
     "output_type": "stream",
     "text": [
      "Epoch: 0 | Loss: 1.0152729749679565\n",
      "Epoch: 1000 | Loss: 0.23430438339710236\n",
      "Epoch: 2000 | Loss: 0.1828029602766037\n",
      "Epoch: 3000 | Loss: 0.16258259117603302\n",
      "Epoch: 4000 | Loss: 0.15162822604179382\n",
      "Epoch: 5000 | Loss: 0.1447199434041977\n",
      "Epoch: 6000 | Loss: 0.13995762169361115\n",
      "Epoch: 7000 | Loss: 0.13647641241550446\n",
      "Epoch: 8000 | Loss: 0.13382373750209808\n",
      "Epoch: 9000 | Loss: 0.13173887133598328\n"
     ]
    }
   ],
   "source": [
    "theta_final = train(X, y, theta_init)"
   ]
  },
  {
   "cell_type": "code",
   "execution_count": 18,
   "id": "41eeb20a",
   "metadata": {},
   "outputs": [
    {
     "name": "stdout",
     "output_type": "stream",
     "text": [
      "The last version of the weights: [-0.04136017 10.1252575 ]\n",
      "The loss at the end of the training: 0.13006040453910828\n"
     ]
    }
   ],
   "source": [
    "print(\"The last version of the weights: {}\".format(theta_final))\n",
    "print(\"The loss at the end of the training: {}\".format(logistic_loss(theta_final, X, y)))"
   ]
  },
  {
   "cell_type": "markdown",
   "id": "eb34f5ff",
   "metadata": {},
   "source": [
    "### c."
   ]
  },
  {
   "cell_type": "code",
   "execution_count": 19,
   "id": "534a1f32",
   "metadata": {},
   "outputs": [],
   "source": [
    "def accuracy(preds, labels):\n",
    "    preds = [0 if item<0.5 else 1 for item in preds]\n",
    "    \n",
    "    return sum(preds==labels) / len(preds)"
   ]
  },
  {
   "cell_type": "code",
   "execution_count": 20,
   "id": "ddc4826f",
   "metadata": {},
   "outputs": [
    {
     "name": "stdout",
     "output_type": "stream",
     "text": [
      "Training set accuracy of LogisticRegression is: 96%\n"
     ]
    }
   ],
   "source": [
    "preds = model(X, theta_final)\n",
    "\n",
    "acc = accuracy(preds, y)\n",
    "print(\"Training set accuracy of LogisticRegression is: {}%\".format(int(100*acc)))"
   ]
  },
  {
   "cell_type": "markdown",
   "id": "c8349ed0",
   "metadata": {},
   "source": [
    "### d."
   ]
  },
  {
   "cell_type": "code",
   "execution_count": 21,
   "id": "6e981700",
   "metadata": {},
   "outputs": [
    {
     "data": {
      "image/png": "[encoded data removed]",
      "text/plain": [
       "<Figure size 720x288 with 1 Axes>"
      ]
     },
     "metadata": {
      "needs_background": "light"
     },
     "output_type": "display_data"
    }
   ],
   "source": [
    "m = - theta_final[0] / theta_final[1]\n",
    "rnge =  np.arange(-12, -4, 0.1)\n",
    "\n",
    "fig, axes = plt.subplots(nrows=1, ncols=1, figsize=(10,4))\n",
    "colors = [\"r\" if label == 0 else \"b\" for label in y]\n",
    "axes.scatter(X[:,0], X[:,1], c=colors)\n",
    "plt.plot(rnge, rnge * m.item())\n",
    "plt.fill_between(rnge, rnge * m.item(), -1.5, color='tab:red', alpha=0.2)\n",
    "plt.fill_between(rnge, rnge * m.item(), 1.5, color='tab:blue', alpha=0.2)\n",
    "plt.title(\"Red: Iris-Versicolor / Blue: Iris-Virginica\")\n",
    "plt.xlim(-12, -5)\n",
    "plt.ylim(-1.5, 1.5)\n",
    "plt.tight_layout()"
   ]
  },
  {
   "cell_type": "markdown",
   "id": "cd2294d2",
   "metadata": {},
   "source": [
    "## Question 3"
   ]
  },
  {
   "cell_type": "code",
   "execution_count": 22,
   "id": "efefa309",
   "metadata": {},
   "outputs": [],
   "source": [
    "def mlp(data, thetas):\n",
    "    theta_0 = thetas[:, :-1] # p x d\n",
    "    theta_1 = thetas[:, -1] # p x 1\n",
    "    \n",
    "    output_0 = sigmoid(jnp.dot(data, theta_0.T)) # N x p\n",
    "    \n",
    "    output_1 = sigmoid(jnp.dot(output_0, theta_1)) # N x 1\n",
    "    \n",
    "    return output_1"
   ]
  },
  {
   "cell_type": "code",
   "execution_count": 23,
   "id": "7ef9b4cf",
   "metadata": {},
   "outputs": [],
   "source": [
    "def logistic_loss_mlp(theta, data, labels):\n",
    "    preds = mlp(data, theta)\n",
    "    N = len(preds)\n",
    "    return 1/N * jnp.sum(\n",
    "        -labels * jnp.log(preds) - (1 - labels) * jnp.log(1-preds)\n",
    "    )"
   ]
  },
  {
   "cell_type": "markdown",
   "id": "424e2394",
   "metadata": {},
   "source": [
    "### a."
   ]
  },
  {
   "cell_type": "markdown",
   "id": "ab80d473",
   "metadata": {},
   "source": [
    "If we consider $f(\\theta, x) = \\sigma(\\theta^Tx) $. Then our MLP hypothess function is $\\hat{y} = f(w_2, f(W_1, x))$."
   ]
  },
  {
   "cell_type": "markdown",
   "id": "a2911f63",
   "metadata": {},
   "source": [
    "$L(W_1, w_2) = -ylog(\\hat{y}) - (1-y)log(1-\\hat{y})$"
   ]
  },
  {
   "cell_type": "markdown",
   "id": "255f473f",
   "metadata": {},
   "source": [
    "Then,\n",
    "$\n",
    "\\frac{\\partial L(W_1, w_2)}{\\partial W_1} = \\frac{\\partial L(W_1, w_2)}{\\partial \\hat{y}} * \\frac{\\partial \\hat{y}}{\\partial f(W_1, x)} * \\frac{\\partial f(W_1, x)}{\\partial W_1}\n",
    "$ by chain-rule."
   ]
  },
  {
   "cell_type": "markdown",
   "id": "059e8dcf",
   "metadata": {},
   "source": [
    "We know \n",
    "$\n",
    "\\frac{\\partial f(W_1, x)}{\\partial W_1} = \\sigma(W_1^Tx)(1- \\sigma(W_1^Tx))*\\frac{\\partial (W_1^Tx)}{\\partial W_1} = \\sigma(W_1^Tx)(1- \\sigma(W_1^Tx))*x\n",
    "$ \\\n",
    "from the question 2.a."
   ]
  },
  {
   "cell_type": "markdown",
   "id": "fa8aad51",
   "metadata": {},
   "source": [
    "$\n",
    "\\frac{\\partial \\hat{y}}{\\partial f(W_1, x)} = \\frac{\\partial f(w_2, f(W_1, x))}{\\partial f(W_1, x)} = \\sigma(w_2, f(W_1, x))(1-\\sigma(w_2, f(W_1,x)))w_2\n",
    "$"
   ]
  },
  {
   "cell_type": "markdown",
   "id": "6109ca52",
   "metadata": {},
   "source": [
    "$\n",
    "\\frac{\\partial L(W_1, w_2)}{\\partial \\hat{y}} =\\frac{\\partial L(W_1, w_2)}{\\partial \\hat{y}} = \\frac{y}{\\hat{y}} - (1 - y)\\frac{-1}{1 - \\hat{y}}\n",
    "$"
   ]
  },
  {
   "cell_type": "markdown",
   "id": "bcc457ba",
   "metadata": {},
   "source": [
    "Put them all together \\\n",
    "$\n",
    "\\frac{\\partial L(W_1, w_2)}{\\partial W_1} =  (\\frac{y}{\\hat{y}} - (1 - y)\\frac{-1}{1 - \\hat{y}}) * (\\sigma(w_2, f(W_1, x))(1-\\sigma(w_2, f(W_1,x)))w_2) * (\\sigma(W_1^Tx)(1- \\sigma(W_1^Tx))*x)\n",
    "$"
   ]
  },
  {
   "cell_type": "markdown",
   "id": "14c7fb2c",
   "metadata": {},
   "source": [
    "Similarly \\\n",
    "$\n",
    "\\frac{\\partial L(W_1, w_2)}{\\partial w_2} = \\frac{\\partial L(W_1, w_2)}{\\partial \\hat{y}} * \\frac{\\partial \\hat{y}}{\\partial w_2}\n",
    "$"
   ]
  },
  {
   "cell_type": "markdown",
   "id": "a7139321",
   "metadata": {},
   "source": [
    "$\n",
    "\\frac{\\partial \\hat{y}}{\\partial w_2} = \\frac{\\partial f(w_2, f(W_1, x))}{\\partial w_2} = \\sigma(w_2 f(W_1,x))(1 - \\sigma(w_2 f(W_1,x)))f(W_1,x)\n",
    "$"
   ]
  },
  {
   "cell_type": "markdown",
   "id": "eaa582cb",
   "metadata": {},
   "source": [
    "Then,\n",
    "$\n",
    "\\frac{\\partial L(W_1, w_2)}{\\partial w_2} =  (\\frac{y}{\\hat{y}} - (1 - y)\\frac{-1}{1 - \\hat{y}}) * \\sigma(w_2 f(W_1,x))(1 - \\sigma(w_2 f(W_1,x)))f(W_1,x) = (\\frac{y}{\\hat{y}} - (1 - y)\\frac{-1}{1 - \\hat{y}}) * \\hat{y}(1 - \\hat{y})f(W_1,x)\n",
    "$"
   ]
  },
  {
   "cell_type": "code",
   "execution_count": 24,
   "id": "0d6fccfb",
   "metadata": {},
   "outputs": [],
   "source": [
    "mlp_loss_grad = jax.grad(logistic_loss_mlp, argnums=0)"
   ]
  },
  {
   "cell_type": "markdown",
   "id": "34f72a28",
   "metadata": {},
   "source": [
    "### b."
   ]
  },
  {
   "cell_type": "code",
   "execution_count": 25,
   "id": "4ccea7c8",
   "metadata": {},
   "outputs": [
    {
     "data": {
      "text/plain": [
       "array([[ 0.0978738 ,  0.22408932,  0.07610377],\n",
       "       [ 0.1867558 , -0.09772779,  0.0121675 ],\n",
       "       [ 0.09500884, -0.01513572,  0.04438632],\n",
       "       [-0.01032189,  0.04105985,  0.03336743],\n",
       "       [ 0.01440436,  0.14542735,  0.14940791]])"
      ]
     },
     "execution_count": 25,
     "metadata": {},
     "output_type": "execute_result"
    }
   ],
   "source": [
    "p = 5\n",
    "\n",
    "W_1_init = np.random.randn(p, 2)/10\n",
    "W_2_init = np.random.randn(p, 1)/10\n",
    "\n",
    "mlp_theta = np.hstack((W_1_init, W_2_init))\n",
    "mlp_theta"
   ]
  },
  {
   "cell_type": "code",
   "execution_count": 26,
   "id": "fdd7d8ee",
   "metadata": {},
   "outputs": [],
   "source": [
    "def train_mlp(inputs, labels, theta):\n",
    "    for epoch in range(epochs):\n",
    "        if epoch%1000 == 0:\n",
    "            print(\"Epoch: {} | Loss: {}\".format(epoch, logistic_loss_mlp(jax.numpy.asarray(theta),\n",
    "                                                                         jax.numpy.asarray(inputs), \n",
    "                                                                         jax.numpy.asarray(labels))))\n",
    "        \n",
    "        grads = mlp_loss_grad(jax.numpy.asarray(theta),\n",
    "                              jax.numpy.asarray(inputs), \n",
    "                              jax.numpy.asarray(labels))\n",
    "        \n",
    "\n",
    "        theta -= learning_rate * grads\n",
    "        \n",
    "    return theta"
   ]
  },
  {
   "cell_type": "code",
   "execution_count": 27,
   "id": "a2032bcd",
   "metadata": {},
   "outputs": [
    {
     "name": "stdout",
     "output_type": "stream",
     "text": [
      "Epoch: 0 | Loss: 0.6944878697395325\n",
      "Epoch: 1000 | Loss: 0.5486149191856384\n",
      "Epoch: 2000 | Loss: 0.20550502836704254\n",
      "Epoch: 3000 | Loss: 0.14429686963558197\n",
      "Epoch: 4000 | Loss: 0.1265970915555954\n",
      "Epoch: 5000 | Loss: 0.118720643222332\n",
      "Epoch: 6000 | Loss: 0.1143357902765274\n",
      "Epoch: 7000 | Loss: 0.11152829229831696\n",
      "Epoch: 8000 | Loss: 0.10954831540584564\n",
      "Epoch: 9000 | Loss: 0.10805078595876694\n"
     ]
    }
   ],
   "source": [
    "epochs = 10000\n",
    "learning_rate = 0.05\n",
    "theta_mlp_final = train_mlp(X, y, mlp_theta)"
   ]
  },
  {
   "cell_type": "code",
   "execution_count": 28,
   "id": "5ef13a58",
   "metadata": {},
   "outputs": [
    {
     "name": "stdout",
     "output_type": "stream",
     "text": [
      "The last version of the weights:\n",
      " \n",
      "W_1: [[-0.07165469  2.8668838 ]\n",
      " [ 0.0798801  -4.3705564 ]\n",
      " [ 0.07333825 -3.3181493 ]\n",
      " [ 0.07369471 -1.6843283 ]\n",
      " [-0.07660749  3.9047577 ]]\n",
      "\n",
      " W_2: [ 2.762994  -5.2576528 -4.0280347 -2.3067048  3.949962 ]\n",
      "\n",
      "The loss at the end of the training: 0.10685808211565018\n"
     ]
    }
   ],
   "source": [
    "print(\"The last version of the weights:\\n \\nW_1: {}\\n\\n W_2: {}\\n\".format(theta_mlp_final[:,:-1], theta_mlp_final[:,-1]))\n",
    "print(\"The loss at the end of the training: {}\".format(logistic_loss_mlp(theta_mlp_final, X, y)))"
   ]
  },
  {
   "cell_type": "markdown",
   "id": "530aac64",
   "metadata": {},
   "source": [
    "### c."
   ]
  },
  {
   "cell_type": "code",
   "execution_count": 29,
   "id": "8f1dbfe1",
   "metadata": {},
   "outputs": [
    {
     "name": "stdout",
     "output_type": "stream",
     "text": [
      "Training set accuracy of MLP is: 97%\n"
     ]
    }
   ],
   "source": [
    "preds_mlp = mlp(X, theta_mlp_final)\n",
    "\n",
    "acc = accuracy(preds_mlp, y)\n",
    "print(\"Training set accuracy of MLP is: {}%\".format(int(100*acc)))"
   ]
  },
  {
   "cell_type": "markdown",
   "id": "d990038f",
   "metadata": {},
   "source": [
    "### d."
   ]
  },
  {
   "cell_type": "code",
   "execution_count": null,
   "id": "573e5e18",
   "metadata": {},
   "outputs": [],
   "source": [
    "no_pts = 100\n",
    "x_1 = np.linspace(-11.5, -5, no_pts)\n",
    "x_2 = np.linspace(-1.5, 1.5, no_pts)\n",
    "x_1_grid, x_2_grid = np.meshgrid(x_1, x_2)\n",
    "p_grid = np.zeros((no_pts, no_pts))\n",
    "for i in range(no_pts):\n",
    "    for j in range(no_pts):\n",
    "        x_1 = x_1_grid[i, j]\n",
    "        x_2 = x_2_grid[i, j]\n",
    "        p_grid[i, j] = 0.0 if mlp(jax.numpy.asarray([x_1, x_2]), theta_mlp_final)<0.5 else 1.0\n",
    "fig, ax = plt.subplots()\n",
    "colors = [\"r\" if label == 0 else \"b\" for label in y]\n",
    "ax.scatter(X[:,0], X[:,1], c=colors)\n",
    "ax.contour(x_1_grid, x_2_grid, p_grid, levels=[0.5]);"
   ]
  },
  {
   "cell_type": "markdown",
   "id": "eca93492",
   "metadata": {},
   "source": [
    "We have more fluctuations in the decision boundary of the MLP. On the other hand, approximately, they produce the same decision boundary. This similarity comes from the dataset. The dataset is linearly separable so both model is able to find a decision boundary.\n",
    "\n",
    "The reason of the fluctuations on the decision boundary of the MLP is the complexity of the neural network is greater than the complexity of the logistic regression. This means MLP can fit to more complex datasets, as well."
   ]
  },
  {
   "cell_type": "markdown",
   "id": "8acaea9c",
   "metadata": {},
   "source": [
    "## Question 4"
   ]
  },
  {
   "cell_type": "markdown",
   "id": "f7260897",
   "metadata": {},
   "source": [
    "### a."
   ]
  },
  {
   "cell_type": "markdown",
   "id": "dd4f71cb",
   "metadata": {},
   "source": [
    "The number of epochs to train the model and the learning rate are the some of the hyperparameters in the machine learning. Tuning such hyperparameters is an essential process. There are several ways to tune hyperparameters like **grid search**, **random search**, and **cross validation**. Grid search method creates a grid made of the cartesian product of the possible values of those hyperparameters and tries each of them one by one. Random search, on the other hand, selects random combinations of that grid and train the model only for those combinations. Cross validation is another approach that divides the dataset into *k* folds and treats each of them as the validation set and the rest is the training set seperately. At the end we end up with k datasets based on our original dataset whose validation sets do not intersect. We train k different models and see if one of the models lacks of generalization. If so, that means that hyperparameter combination is not a good set of one.\n",
    "\n",
    "Particularly, in order to decide the number of epochs to train, we can use other methods like early stopping and convergence test. Early stopping is to train model until the validation loss starts to increase despite to training loss is still decreasing. We can use accuracy for the classification tasks in the reverse manner, as well. Convergence test is to train until the validation loss does not change much. This quantity may be checked by a threshold.\n",
    "\n",
    "Setting to learning rate, we can conduct a linear search. If we set a high learning rate our model starts to diverge instead of converge. Setting the learning rate so small, we may observe a very little change in the loss value and it does not converge although we trained the model for so many epochs. "
   ]
  },
  {
   "cell_type": "markdown",
   "id": "661bd76d",
   "metadata": {},
   "source": [
    "### b."
   ]
  },
  {
   "cell_type": "markdown",
   "id": "dbc5c389",
   "metadata": {},
   "source": [
    "When we apply a machine learning solution to a particular problem, we want this model to be accurate for not just the data we already have but for the data that will be feed to the trained model for the prediction. This phenomena is called generalization. To be sure that our model is generalized, we adopt a technique called **train-test split**. In this method we divide our dataset into two parts with the propotions like 80-20 or 90-10. The minor part called test set and we do not touch until we report our solution. Then we divide our major part into two with similar proportions we did in the previous step and call the major part as training set and the minor part as validation set. We only train our model with the training set and check the validation performance of our trained model in certain periods to not overfit (or for some specific datasets underfit, as well). Then we tune our hyperparameters regarding the validation performance and choose the model which is best (logistic regression or MLP, in our case). It is important that we do not evaluate our model on the test set until we report the its performance."
   ]
  },
  {
   "cell_type": "markdown",
   "id": "7b52e61d",
   "metadata": {},
   "source": [
    "### c."
   ]
  },
  {
   "cell_type": "markdown",
   "id": "f4617b1e",
   "metadata": {},
   "source": [
    "The number of hidden layers and the size of each hidden layer is a hyperparameter for the neural networks (more specifically for MLPs). Thus for selecting the size of a hidden layer (*p*) the techniques mentioned in the previos steps can be used. Train-set split is a 'must' for the generalization. In addition to train-test split, cross validation can be applied as well to ensure generalization."
   ]
  }
 ],
 "metadata": {
  "kernelspec": {
   "display_name": "cmpe482",
   "language": "python",
   "name": "cmpe482"
  },
  "language_info": {
   "codemirror_mode": {
    "name": "ipython",
    "version": 3
   },
   "file_extension": ".py",
   "mimetype": "text/x-python",
   "name": "python",
   "nbconvert_exporter": "python",
   "pygments_lexer": "ipython3",
   "version": "3.8.5"
  }
 },
 "nbformat": 4,
 "nbformat_minor": 5
}
