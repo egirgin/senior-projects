{
  "nbformat": 4,
  "nbformat_minor": 0,
  "metadata": {
    "colab": {
      "name": "58y-hw1.ipynb",
      "provenance": [],
      "collapsed_sections": []
    },
    "kernelspec": {
      "name": "python3",
      "display_name": "Python 3"
    },
    "language_info": {
      "name": "python"
    }
  },
  "cells": [
    {
      "cell_type": "code",
      "source": [
        "\"\"\"\n",
        "EMRE GİRGİN\n",
        "2021700060\n",
        "\"\"\""
      ],
      "metadata": {
        "colab": {
          "base_uri": "https://localhost:8080/",
          "height": 35
        },
        "id": "5S4yg9o-bpgj",
        "outputId": "b5e2223f-b88b-4dcb-b59d-bc31b663c81f"
      },
      "execution_count": 1,
      "outputs": [
        {
          "output_type": "execute_result",
          "data": {
            "text/plain": [
              "'\\nEMRE GİRGİN\\n2021700060\\n'"
            ],
            "application/vnd.google.colaboratory.intrinsic+json": {
              "type": "string"
            }
          },
          "metadata": {},
          "execution_count": 1
        }
      ]
    },
    {
      "cell_type": "code",
      "source": [
        "import gym\n",
        "import numpy as np\n",
        "import matplotlib.pyplot as plt\n",
        "\n",
        "table_shape = (4,6,4,6,2)\n",
        "epsilon_decay = 0.99997\n",
        "gamma = 0.999\n",
        "lr = 0.1\n",
        "num_episodes = 3500"
      ],
      "metadata": {
        "id": "UGNHKBDtvhud"
      },
      "execution_count": 2,
      "outputs": []
    },
    {
      "cell_type": "code",
      "execution_count": 3,
      "metadata": {
        "id": "LgR4ugSfvY3g"
      },
      "outputs": [],
      "source": [
        "def quantize(observation):\n",
        "    \"\"\"\n",
        "    -  The cart x-position (index 0) can be take values between `(-4.8, 4.8)`, but the episode terminates if the cart leaves the `(-2.4, 2.4)` range.\n",
        "    -  The pole angle can be observed between  `(-.418, .418)` radians (or **±24°**), but the episode terminates if the pole angle is not in the range `(-.2095, .2095)` (or **±12°**)\n",
        "\n",
        "    0th range = -2.4 , 2.4\n",
        "    1st range = -2.5, 2.5\n",
        "    2nd range = -0.21, 0.21\n",
        "    3rd range = -3.0 , 3.0\n",
        "\n",
        "    :param observation:\n",
        "    :return:\n",
        "    \"\"\"\n",
        "    global table_shape\n",
        "\n",
        "    quantized = [0, 0, 0, 0]\n",
        "\n",
        "    boundaries = [\n",
        "                  np.linspace(-2.4, 2.4, table_shape[0]-1),\n",
        "                  np.linspace(-2.5, 2.5, table_shape[1]-1),\n",
        "                  np.linspace(-0.2095, 0.2095, table_shape[2]-1),\n",
        "                  np.linspace(-3.0, 3.0, table_shape[3]-1),\n",
        "    ]\n",
        "\n",
        "\n",
        "    for i in range(len(observation)):\n",
        "        quantized[i] = np.digitize(observation[i], boundaries[i])\n",
        "\n",
        "\n",
        "    return np.asarray(quantized)\n",
        "\n",
        "def epsilon_greedy(s, Q, e=0.1):\n",
        "    if np.random.uniform() < e:\n",
        "        return np.random.choice([0, 1])\n",
        "    else:\n",
        "        return np.argmax(Q[tuple(s)])\n",
        "\n",
        "\n",
        "def bellman_eqn(s, a, r, s_next, Q, gamma=0.999, lr=0.25, done=False):\n",
        "\n",
        "    if done:\n",
        "        Q[s[0], s[1], s[2], s[3], a] +=  lr * (r + gamma * 0 - Q[s[0], s[1], s[2], s[3], a])\n",
        "    else:\n",
        "        Q[s[0], s[1], s[2], s[3], a] +=  lr * (r + gamma * Q[s_next[0], s_next[1], s_next[2], s_next[3]].max() - Q[s[0], s[1], s[2], s[3], a])\n",
        "\n",
        "    return Q\n",
        "\n"
      ]
    },
    {
      "cell_type": "code",
      "source": [
        "def run():\n",
        "    e = 1.0\n",
        "\n",
        "    global table_shape\n",
        "    \n",
        "    reward_history = []\n",
        "\n",
        "    Q_table = np.zeros(table_shape)\n",
        "    \n",
        "    env = gym.make('CartPole-v0')\n",
        "    for i_episode in range(num_episodes):\n",
        "        observation = env.reset()\n",
        "        cum_reward = 0\n",
        "        for t in range(1000):\n",
        "            # env.render()\n",
        "            quantized = quantize(observation)\n",
        "            e *= epsilon_decay\n",
        "            \n",
        "            action = epsilon_greedy(s=quantized, Q=Q_table, e=e)\n",
        "            observation, reward, done, info = env.step(action)\n",
        "\n",
        "            if done:\n",
        "                Q_table = bellman_eqn(quantized, action, reward, quantize(observation), Q_table, gamma=gamma, lr=lr, done=True)\n",
        "                reward_history.append(cum_reward)\n",
        "                break\n",
        "            else:\n",
        "                cum_reward += reward\n",
        "                Q_table = bellman_eqn(quantized, action, reward, quantize(observation), Q_table, gamma=gamma, lr=lr, done=False)\n",
        "    env.close()\n",
        "\n",
        "    return reward_history\n",
        "\n",
        "def moving_average(a, n=3) :\n",
        "    \"\"\"\n",
        "    from:\n",
        "    https://stackoverflow.com/questions/14313510/how-to-calculate-rolling-moving-average-using-python-numpy-scipy\n",
        "    \"\"\"\n",
        "    ret = np.cumsum(a, dtype=float)\n",
        "    ret[n:] = ret[n:] - ret[:-n]\n",
        "    return ret[n - 1:] / n"
      ],
      "metadata": {
        "id": "ZFp_Ms78vgko"
      },
      "execution_count": 4,
      "outputs": []
    },
    {
      "cell_type": "code",
      "source": [
        "reward_hist = run()\n",
        "plt.plot(moving_average(reward_hist, 20))\n",
        "plt.show()"
      ],
      "metadata": {
        "colab": {
          "base_uri": "https://localhost:8080/",
          "height": 265
        },
        "id": "0wgYH-y1vdkG",
        "outputId": "45ee83bf-ae75-4df3-d187-8ebcfd6903b6"
      },
      "execution_count": 5,
      "outputs": [
        {
          "output_type": "display_data",
          "data": {
            "text/plain": [
              "<Figure size 432x288 with 1 Axes>"
            ],
            "image/png": "[encoded data removed]"
          },
          "metadata": {
            "needs_background": "light"
          }
        }
      ]
    },
    {
      "cell_type": "code",
      "source": [
        ""
      ],
      "metadata": {
        "id": "0499tz9OOmOP"
      },
      "execution_count": 5,
      "outputs": []
    }
  ]
}