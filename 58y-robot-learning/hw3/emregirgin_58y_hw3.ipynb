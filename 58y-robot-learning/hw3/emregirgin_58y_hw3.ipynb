{
  "nbformat": 4,
  "nbformat_minor": 0,
  "metadata": {
    "colab": {
      "name": "emregirgin-58y-hw3.ipynb",
      "provenance": [],
      "collapsed_sections": []
    },
    "kernelspec": {
      "name": "python3",
      "display_name": "Python 3"
    },
    "language_info": {
      "name": "python"
    }
  },
  "cells": [
    {
      "cell_type": "code",
      "execution_count": 1,
      "metadata": {
        "id": "VMqP7yWrGNka",
        "colab": {
          "base_uri": "https://localhost:8080/",
          "height": 35
        },
        "outputId": "717f57de-df9e-47e0-a11b-93bdc2674edb"
      },
      "outputs": [
        {
          "output_type": "execute_result",
          "data": {
            "text/plain": [
              "'\\nSource1: https://github.com/lbarazza/VPG-PyTorch/blob/master/vpg.py\\nSource2: https://github.com/mitchellvitez/vanilla-policy-gradient/blob/main/vpg.py\\n'"
            ],
            "application/vnd.google.colaboratory.intrinsic+json": {
              "type": "string"
            }
          },
          "metadata": {},
          "execution_count": 1
        }
      ],
      "source": [
        "\"\"\"\n",
        "Source1: https://github.com/lbarazza/VPG-PyTorch/blob/master/vpg.py\n",
        "Source2: https://github.com/mitchellvitez/vanilla-policy-gradient/blob/main/vpg.py\n",
        "\"\"\""
      ]
    },
    {
      "cell_type": "code",
      "source": [
        "import gym\n",
        "import numpy as np\n",
        "import torch\n",
        "import torch.nn as nn\n",
        "import torch.nn.functional as F\n",
        "import matplotlib.pyplot as plt\n",
        "\n",
        "num_episodes = 50\n",
        "num_rollouts = 50\n",
        "discount_factor = 0.99 \n",
        "max_T = 500"
      ],
      "metadata": {
        "id": "3ljld2d7S1yZ"
      },
      "execution_count": 2,
      "outputs": []
    },
    {
      "cell_type": "code",
      "source": [
        "class Network(nn.Module):\n",
        "    def __init__(self): \n",
        "        super(Network, self).__init__()\n",
        "        self.fc1 = nn.Linear(4, 4)\n",
        "        self.fc2 = nn.Linear(4, 1)\n",
        "\n",
        "    \n",
        "    def forward(self, x):\n",
        "        x = self.fc1(x)\n",
        "        x = torch.sigmoid(self.fc2(x))\n",
        "        return x\n",
        "\n",
        "my_network = Network()\n",
        "\n",
        "optimizer = torch.optim.Adam(my_network.parameters(), lr=0.05)"
      ],
      "metadata": {
        "id": "3rnZYHr2S7_d"
      },
      "execution_count": 3,
      "outputs": []
    },
    {
      "cell_type": "code",
      "source": [
        "def discounted_reward(max_T, start_t, rewards, discount_factor=0.99):\n",
        "    return np.sum(np.full(max_T - start_t, discount_factor) ** np.arange(max_T - start_t) * np.array(rewards[start_t:]))\n",
        "\n",
        "def run():\n",
        "    \n",
        "    reward_history = []\n",
        "\n",
        "    env = gym.make('CartPole-v1')\n",
        "\n",
        "    for episode_id in range(num_episodes):\n",
        "\n",
        "        rewards = np.zeros((num_rollouts, max_T))\n",
        "        deriv = torch.zeros((num_rollouts, max_T, 4))\n",
        "\n",
        "        optimizer.zero_grad()\n",
        "\n",
        "        for rollout_id in range(num_rollouts): # i in eqns\n",
        "\n",
        "            observation = env.reset()\n",
        "            cum_reward = 0\n",
        "                        \n",
        "            for t in range(max_T):\n",
        "\n",
        "                output = my_network(torch.FloatTensor(observation)) # prob. of selecting action as 1\n",
        "                \n",
        "                action = np.random.binomial(1, output.detach().numpy(), 1)[0]\n",
        "                \n",
        "                new_observation, reward, done, info = env.step(action)\n",
        "\n",
        "                rewards[rollout_id, t] = reward\n",
        "                \n",
        "                # TODO: Effect of random variable X ?\n",
        "                if action == 0: # x = 0\n",
        "                    deriv[rollout_id, t] = -output * torch.Tensor(observation)\n",
        "                elif action == 1: # x = 1\n",
        "                    deriv[rollout_id, t] = (1-output) * torch.Tensor(observation)\n",
        "\n",
        "                observation = new_observation\n",
        "\n",
        "                if done:\n",
        "                    break\n",
        "                else:\n",
        "                    cum_reward += reward\n",
        "\n",
        "            reward_history.append(cum_reward)\n",
        "        \n",
        "        discounted_rewards = np.zeros_like(rewards)\n",
        "        \n",
        "        for rollout_id in range(num_rollouts):\n",
        "            for t in range(max_T):\n",
        "                discounted_rewards[rollout_id, t] = discounted_reward(max_T = max_T, start_t = t, rewards=rewards[rollout_id], discount_factor=discount_factor)\n",
        "            \n",
        "            # calculate discounted reward for each timestep t\n",
        "            #discounted_rewards[rollout_id] = np.full(max_T, discount_factor) ** np.arange(max_T) * np.array(rewards[rollout_id])\n",
        "            \n",
        "            # Reverse then cumulative sum bcs we want cumulative sum after timestep t\n",
        "            #discounted_rewards[rollout_id] = discounted_rewards[rollout_id][::-1].cumsum()[::-1]\n",
        "\n",
        "        baseline = np.mean(discounted_rewards, axis=0)\n",
        "\n",
        "        # TODO: Vector implementation ??\n",
        "        loss = torch.zeros((4))\n",
        "        for rollout_id in range(num_rollouts):\n",
        "            for t in range(max_T):\n",
        "                current_loss = torch.mul(deriv[rollout_id, t], (discounted_rewards[rollout_id, t] - baseline[t]))\n",
        "                #print(current_loss)\n",
        "                loss += current_loss\n",
        "\n",
        "        loss /= num_rollouts\n",
        "\n",
        "        loss = -torch.mean(loss)\n",
        "\n",
        "        print(\"Episode: {} | Loss: {} | Avg. Cum. Reward: {}\".format(episode_id, loss, np.mean(reward_history[-num_rollouts:])))\n",
        "\n",
        "        \n",
        "        loss.backward()\n",
        "        optimizer.step()\n",
        "\n",
        "    env.close()\n",
        "\n",
        "    return reward_history\n",
        "\n",
        "def moving_average(a, n=3) :\n",
        "    \"\"\"\n",
        "    from:\n",
        "    https://stackoverflow.com/questions/14313510/how-to-calculate-rolling-moving-average-using-python-numpy-scipy\n",
        "    \"\"\"\n",
        "    ret = np.cumsum(a, dtype=float)\n",
        "    ret[n:] = ret[n:] - ret[:-n]\n",
        "    return ret[n - 1:] / n"
      ],
      "metadata": {
        "id": "DHK2iajfTWbD"
      },
      "execution_count": 4,
      "outputs": []
    },
    {
      "cell_type": "code",
      "source": [
        "reward_hist = run()\n",
        "plt.plot(moving_average(reward_hist, 20))\n",
        "plt.show()"
      ],
      "metadata": {
        "colab": {
          "base_uri": "https://localhost:8080/",
          "height": 1000
        },
        "id": "SRurvfaXvUwj",
        "outputId": "5af1a6a3-76bb-4d88-f52e-c3620536d008"
      },
      "execution_count": 5,
      "outputs": [
        {
          "output_type": "stream",
          "name": "stdout",
          "text": [
            "Episode: 0 | Loss: -0.9264669418334961 | Avg. Cum. Reward: 18.54\n",
            "Episode: 1 | Loss: -1.8413281440734863 | Avg. Cum. Reward: 22.24\n",
            "Episode: 2 | Loss: -1.6376771926879883 | Avg. Cum. Reward: 25.26\n",
            "Episode: 3 | Loss: -1.1200722455978394 | Avg. Cum. Reward: 27.3\n",
            "Episode: 4 | Loss: -1.6367905139923096 | Avg. Cum. Reward: 29.68\n",
            "Episode: 5 | Loss: -2.6023852825164795 | Avg. Cum. Reward: 34.42\n",
            "Episode: 6 | Loss: -3.611929416656494 | Avg. Cum. Reward: 35.62\n",
            "Episode: 7 | Loss: -3.767796039581299 | Avg. Cum. Reward: 40.04\n",
            "Episode: 8 | Loss: -3.3066515922546387 | Avg. Cum. Reward: 46.36\n",
            "Episode: 9 | Loss: -8.624364852905273 | Avg. Cum. Reward: 55.78\n",
            "Episode: 10 | Loss: -4.303363800048828 | Avg. Cum. Reward: 48.2\n",
            "Episode: 11 | Loss: -2.946065902709961 | Avg. Cum. Reward: 52.94\n",
            "Episode: 12 | Loss: -1.8655999898910522 | Avg. Cum. Reward: 54.24\n",
            "Episode: 13 | Loss: -2.8737025260925293 | Avg. Cum. Reward: 56.22\n",
            "Episode: 14 | Loss: -4.82728385925293 | Avg. Cum. Reward: 63.04\n",
            "Episode: 15 | Loss: -3.2271506786346436 | Avg. Cum. Reward: 62.2\n",
            "Episode: 16 | Loss: -1.718320369720459 | Avg. Cum. Reward: 59.38\n",
            "Episode: 17 | Loss: -1.2865080833435059 | Avg. Cum. Reward: 61.44\n",
            "Episode: 18 | Loss: -2.8447322845458984 | Avg. Cum. Reward: 62.76\n",
            "Episode: 19 | Loss: -2.664590835571289 | Avg. Cum. Reward: 69.04\n",
            "Episode: 20 | Loss: -4.273743629455566 | Avg. Cum. Reward: 78.78\n",
            "Episode: 21 | Loss: -1.5999746322631836 | Avg. Cum. Reward: 74.9\n",
            "Episode: 22 | Loss: -3.887909173965454 | Avg. Cum. Reward: 79.58\n",
            "Episode: 23 | Loss: -3.434180736541748 | Avg. Cum. Reward: 88.76\n",
            "Episode: 24 | Loss: -3.1115152835845947 | Avg. Cum. Reward: 88.1\n",
            "Episode: 25 | Loss: -4.18546724319458 | Avg. Cum. Reward: 102.76\n",
            "Episode: 26 | Loss: -6.492751121520996 | Avg. Cum. Reward: 103.6\n",
            "Episode: 27 | Loss: -4.776743412017822 | Avg. Cum. Reward: 111.54\n",
            "Episode: 28 | Loss: -4.9719767570495605 | Avg. Cum. Reward: 120.1\n",
            "Episode: 29 | Loss: -6.108038902282715 | Avg. Cum. Reward: 131.04\n",
            "Episode: 30 | Loss: -10.144453048706055 | Avg. Cum. Reward: 142.24\n",
            "Episode: 31 | Loss: -13.112565040588379 | Avg. Cum. Reward: 176.1\n",
            "Episode: 32 | Loss: -15.879141807556152 | Avg. Cum. Reward: 201.86\n",
            "Episode: 33 | Loss: -15.096633911132812 | Avg. Cum. Reward: 231.08\n",
            "Episode: 34 | Loss: -4.908108234405518 | Avg. Cum. Reward: 277.38\n",
            "Episode: 35 | Loss: -12.730035781860352 | Avg. Cum. Reward: 312.46\n",
            "Episode: 36 | Loss: -24.611862182617188 | Avg. Cum. Reward: 416.94\n",
            "Episode: 37 | Loss: -1.1211994886398315 | Avg. Cum. Reward: 496.72\n",
            "Episode: 38 | Loss: 1.4013721772772195e-15 | Avg. Cum. Reward: 499.0\n",
            "Episode: 39 | Loss: -5.857484399048821e-15 | Avg. Cum. Reward: 499.0\n",
            "Episode: 40 | Loss: 7.450437429544834e-15 | Avg. Cum. Reward: 499.0\n",
            "Episode: 41 | Loss: -3.143320632535869e-15 | Avg. Cum. Reward: 499.0\n",
            "Episode: 42 | Loss: -4.881011264926908e-15 | Avg. Cum. Reward: 499.0\n",
            "Episode: 43 | Loss: 1.4829661199323974e-15 | Avg. Cum. Reward: 499.0\n",
            "Episode: 44 | Loss: 7.742670572611146e-15 | Avg. Cum. Reward: 499.0\n",
            "Episode: 45 | Loss: -0.6992030143737793 | Avg. Cum. Reward: 493.66\n",
            "Episode: 46 | Loss: -6.561962971829644e-15 | Avg. Cum. Reward: 499.0\n",
            "Episode: 47 | Loss: 3.1201055770339967e-15 | Avg. Cum. Reward: 499.0\n",
            "Episode: 48 | Loss: 2.114576816558838 | Avg. Cum. Reward: 484.5\n",
            "Episode: 49 | Loss: -1.0139299898406827e-15 | Avg. Cum. Reward: 499.0\n"
          ]
        },
        {
          "output_type": "display_data",
          "data": {
            "text/plain": [
              "<Figure size 432x288 with 1 Axes>"
            ],
            "image/png": "[encoded data removed]"
          },
          "metadata": {
            "needs_background": "light"
          }
        }
      ]
    },
    {
      "cell_type": "code",
      "source": [
        ""
      ],
      "metadata": {
        "id": "H7hnY8OtkM3V"
      },
      "execution_count": 5,
      "outputs": []
    }
  ]
}