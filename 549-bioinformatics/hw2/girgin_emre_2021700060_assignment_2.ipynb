{
 "cells": [
  {
   "cell_type": "markdown",
   "id": "38e4c057",
   "metadata": {},
   "source": [
    "# CmpE 549 Assignment 2\n",
    "**Name:** Emre\\\n",
    "**Surname:** Girgin\\\n",
    "**ID:** 2021700060"
   ]
  },
  {
   "cell_type": "code",
   "execution_count": 1,
   "id": "e6c03b07",
   "metadata": {},
   "outputs": [],
   "source": [
    "import numpy as np\n",
    "import Bio\n",
    "import matplotlib.pyplot as plt\n",
    "from scipy.cluster.hierarchy import linkage, dendrogram\n",
    "np.random.seed(42)"
   ]
  },
  {
   "cell_type": "markdown",
   "id": "64d1788d",
   "metadata": {},
   "source": [
    "# Question 1"
   ]
  },
  {
   "cell_type": "code",
   "execution_count": 2,
   "id": "e1e29dde",
   "metadata": {},
   "outputs": [],
   "source": [
    "gene_expression_path = \"./gene_expression_matrix.txt\""
   ]
  },
  {
   "cell_type": "markdown",
   "id": "633b4ed4",
   "metadata": {},
   "source": [
    "## a."
   ]
  },
  {
   "cell_type": "code",
   "execution_count": 3,
   "id": "c3648a0d",
   "metadata": {},
   "outputs": [
    {
     "name": "stdout",
     "output_type": "stream",
     "text": [
      "Dataset shape: (62, 2000)\n",
      "First three columns: \n",
      " [[ 8589.4163  5468.2409  4263.4075]\n",
      " [ 3825.705   6970.3614  5369.9688]\n",
      " [ 3230.3287  3694.45    3400.74  ]\n",
      " [ 7126.5988  3779.0682  3705.5537]\n",
      " [ 9330.6787  7017.2295  4723.7825]\n",
      " [14876.407   3201.9045  2327.6263]\n",
      " [ 4469.09    5167.0568  4773.68  ]\n",
      " [ 4913.7988  5215.0477  4288.6162]\n",
      " [ 7144.4062  2071.4023  1619.2762]\n",
      " [ 5382.3938  3848.4432  3372.4887]\n",
      " [ 7434.8213  6471.2114  5029.6175]\n",
      " [ 4214.9     2213.3568  1611.5188]\n",
      " [ 8865.4587  5447.1864  4887.0575]\n",
      " [ 5934.8888  3744.9886  3528.8337]\n",
      " [ 5821.6175  3748.2477  3439.9538]\n",
      " [ 9767.0275  9785.775   8605.0438]\n",
      " [13324.729   9505.0341  7740.9875]\n",
      " [12977.712   7565.6159  5735.2   ]\n",
      " [ 8753.2388  8978.1341  7777.8412]\n",
      " [ 5012.02    1383.4886  1269.6487]\n",
      " [ 6904.8012  2260.7773  1987.0012]\n",
      " [ 8347.9838  9852.2977  8178.965 ]\n",
      " [ 5100.5363  3343.3205  2925.67  ]\n",
      " [ 4554.5762  3139.3114  2958.4025]\n",
      " [ 5466.93   10152.273   7760.9175]\n",
      " [ 4201.5075  2425.6273  2228.8175]\n",
      " [ 9128.1188  5502.7159  4590.1338]\n",
      " [ 3799.0888  5665.7795  5157.0675]\n",
      " [14641.931   3377.3932  3048.4325]\n",
      " [ 9443.8775  6671.7773  6260.6162]\n",
      " [14368.276   3651.9909  3302.9275]\n",
      " [ 6951.3538  5565.7773  4480.785 ]\n",
      " [ 6357.9212  3736.8455  2665.5912]\n",
      " [11605.972   8278.9182  7316.1038]\n",
      " [ 7666.675   6409.7386  6489.8637]\n",
      " [ 4527.0038  2912.3068  2124.9887]\n",
      " [ 4653.2375  6251.5568  4947.1225]\n",
      " [ 4972.1662  4173.9182  3668.5338]\n",
      " [ 9112.3725  6824.4864  5982.8463]\n",
      " [ 6234.6225  4005.3     3093.675 ]\n",
      " [ 9164.2537  6719.5295  4883.4487]\n",
      " [ 6246.4487  7823.5341  5955.835 ]\n",
      " [ 2510.325   1960.6545  1566.315 ]\n",
      " [ 4028.71    3156.1591  2870.255 ]\n",
      " [ 5271.5175  4740.7682  3318.5137]\n",
      " [14173.054   8411.8614  6042.84  ]\n",
      " [ 4985.2188  4735.7932  4075.1225]\n",
      " [ 5627.2512  3619.5318  2606.5   ]\n",
      " [ 4865.22    3237.7773  2341.0863]\n",
      " [ 4412.4763  1752.3955  1280.3238]\n",
      " [ 6995.41    6658.1091  5316.3962]\n",
      " [ 1914.6775  2119.1114  1595.4088]\n",
      " [ 3656.7837  5082.8568  4101.9175]\n",
      " [ 6194.245   5202.      4079.6338]\n",
      " [11447.631   3529.1273  2920.8412]\n",
      " [ 6302.7763  4127.4977  3635.695 ]\n",
      " [ 6870.3225  4751.7614  4102.345 ]\n",
      " [ 4177.2838  4984.0977  4585.8987]\n",
      " [ 5777.1738  3387.8932  2413.6525]\n",
      " [ 6730.625   3472.125   2559.4625]\n",
      " [ 7472.01    3653.9341  2728.2162]\n",
      " [ 7121.1737  5346.6477  4254.1175]]\n"
     ]
    }
   ],
   "source": [
    "dataset = np.loadtxt(gene_expression_path)\n",
    "print(\"Dataset shape: {}\".format(dataset.shape))\n",
    "print(\"First three columns: \\n {}\".format(dataset[:, :3]))"
   ]
  },
  {
   "cell_type": "markdown",
   "id": "fd4dd40e",
   "metadata": {},
   "source": [
    "## b."
   ]
  },
  {
   "cell_type": "code",
   "execution_count": 4,
   "id": "5dd0b6bb",
   "metadata": {},
   "outputs": [],
   "source": [
    "def standardize_gene_exp(dataset):\n",
    "    mean = np.mean(dataset, axis=0)\n",
    "    std = np.std(dataset, axis=0)\n",
    "    return (dataset - mean) / std "
   ]
  },
  {
   "cell_type": "code",
   "execution_count": 5,
   "id": "1a777d11",
   "metadata": {},
   "outputs": [
    {
     "name": "stdout",
     "output_type": "stream",
     "text": [
      "The first three columns of the standardized dataset: \n",
      " [[ 0.51292947  0.23088092  0.09353633]\n",
      " [-1.03981707  0.92273048  0.70714741]\n",
      " [-1.23388184 -0.58609512 -0.3848306 ]\n",
      " [ 0.03611955 -0.5471215  -0.21580511]\n",
      " [ 0.75454626  0.94431708  0.34882377]\n",
      " [ 2.56219368 -0.81295267 -0.97989429]\n",
      " [-0.83010373  0.09216096  0.37649296]\n",
      " [-0.68514951  0.1142647   0.10751508]\n",
      " [ 0.04192392 -1.33364156 -1.37268904]\n",
      " [-0.53240951 -0.51516863 -0.40049653]\n",
      " [ 0.13658563  0.69283101  0.51841559]\n",
      " [-0.91295775 -1.26825988 -1.37699068]\n",
      " [ 0.60290635  0.2211836   0.43936313]\n",
      " [-0.35232204 -0.56281795 -0.3138    ]\n",
      " [-0.38924318 -0.56131687 -0.36308574]\n",
      " [ 0.89677551  2.2194591   2.50106326]\n",
      " [ 2.0564194   2.09015492  2.02192621]\n",
      " [ 1.94330813  1.19689394  0.90967565]\n",
      " [ 0.56632792  1.8474743   2.04236235]\n",
      " [-0.653134   -1.65048218 -1.56656471]\n",
      " [-0.03617607 -1.24641886 -1.16877794]\n",
      " [ 0.43423379  2.25009826  2.26479377]\n",
      " [-0.62428184 -0.74781902 -0.64826672]\n",
      " [-0.80223924 -0.84178193 -0.63011587]\n",
      " [-0.50485467  2.38826146  2.0329778 ]\n",
      " [-0.91732308 -1.17049193 -1.03468581]\n",
      " [ 0.68852123  0.24675948  0.27471281]\n",
      " [-1.04849271  0.32186363  0.58908924]\n",
      " [ 2.4857655  -0.73212575 -0.58019238]\n",
      " [ 0.79144376  0.78520803  1.20102977]\n",
      " [ 2.3965668  -0.60565101 -0.43906965]\n",
      " [-0.02100211  0.27580442  0.21407664]\n",
      " [-0.21443331 -0.56656852 -0.79248578]\n",
      " [ 1.4961852   1.52542809  1.78631943]\n",
      " [ 0.21215907  0.66451774  1.32815224]\n",
      " [-0.81122655 -0.94633614 -1.09226102]\n",
      " [-0.77008028  0.59166207  0.47267041]\n",
      " [-0.66612447 -0.36526073 -0.23633341]\n",
      " [ 0.68338867  0.85554309  1.04700063]\n",
      " [-0.25462291 -0.44292323 -0.55510448]\n",
      " [ 0.70029951  0.80720184  0.43736197]\n",
      " [-0.25076812  1.3156864   1.03202231]\n",
      " [-1.46856929 -1.38464999 -1.40205712]\n",
      " [-0.97364696 -0.83402218 -0.67899548]\n",
      " [-0.56854998 -0.10417986 -0.43042678]\n",
      " [ 2.33293358  1.58665933  1.08026837]\n",
      " [-0.66186994 -0.10647126 -0.01087159]\n",
      " [-0.45259748 -0.62060109 -0.82525307]\n",
      " [-0.70098392 -0.79643031 -0.97243045]\n",
      " [-0.84855714 -1.48057033 -1.56064514]\n",
      " [-0.00664185  0.77891271  0.6774403 ]\n",
      " [-1.66272244 -1.31166761 -1.38592401]\n",
      " [-1.0948775   0.05337997  0.00398679]\n",
      " [-0.26778408  0.10825517 -0.00836998]\n",
      " [ 1.44457346 -0.66223977 -0.65094439]\n",
      " [-0.23240797 -0.38664117 -0.2545432 ]\n",
      " [-0.04741451 -0.09911659  0.00422385]\n",
      " [-0.92521887  0.00789331  0.27236436]\n",
      " [-0.40372974 -0.72728964 -0.93219099]\n",
      " [-0.09294935 -0.688494   -0.85133634]\n",
      " [ 0.1487074  -0.60475601 -0.75775893]\n",
      " [ 0.03435122  0.17487729  0.08838483]]\n"
     ]
    }
   ],
   "source": [
    "normalized_dataset = standardize_gene_exp(dataset)\n",
    "print(\"The first three columns of the standardized dataset: \\n {}\".format(normalized_dataset[:, :3]))"
   ]
  },
  {
   "cell_type": "markdown",
   "id": "21acb7a4",
   "metadata": {},
   "source": [
    "## c."
   ]
  },
  {
   "cell_type": "code",
   "execution_count": 6,
   "id": "23522443",
   "metadata": {},
   "outputs": [],
   "source": [
    "def kmeans_iter(dataset, cluster_centers):\n",
    "    # our dataset only has two classes\n",
    "    dist2_center0 = np.linalg.norm(dataset - cluster_centers[0], axis=1)\n",
    "    dist2_center1 = np.linalg.norm(dataset - cluster_centers[1], axis=1)\n",
    "        \n",
    "    c0_mask = dist2_center0 < dist2_center1\n",
    "    \n",
    "    # predictions\n",
    "    preds = np.zeros((dataset.shape[0]), dtype=np.int8)\n",
    "    preds[c0_mask] = 0\n",
    "    preds[~c0_mask] = 1\n",
    "    \n",
    "    # new centers\n",
    "    c0_samples = dataset[c0_mask]\n",
    "    c1_samples = dataset[~c0_mask]\n",
    "    \n",
    "    new_c0_center = np.mean(c0_samples, axis=0)\n",
    "    new_c1_center = np.mean(c1_samples, axis=0)\n",
    "    \n",
    "    return preds, np.vstack([new_c0_center, new_c1_center])\n",
    "\n",
    "def kmeans(dataset):   \n",
    "    # initate cluster centers\n",
    "    centers = np.random.normal(loc=0, scale=1, size=(2, dataset.shape[1]))\n",
    "    \n",
    "    while True:\n",
    "        preds, new_centers = kmeans_iter(dataset, centers)\n",
    "        \n",
    "        delta = np.linalg.norm(centers - new_centers, axis=1)\n",
    "        if np.sum(delta) < 0.1:\n",
    "            return preds, new_centers\n",
    "        centers = new_centers\n",
    "        \n",
    "    return None"
   ]
  },
  {
   "cell_type": "code",
   "execution_count": 7,
   "id": "af8c7527",
   "metadata": {},
   "outputs": [],
   "source": [
    "preds, new_centers = kmeans(normalized_dataset)"
   ]
  },
  {
   "cell_type": "code",
   "execution_count": 8,
   "id": "573228ee",
   "metadata": {},
   "outputs": [
    {
     "name": "stdout",
     "output_type": "stream",
     "text": [
      "Percentage of cancer patients in cluster 0: 0.31\n",
      "Percentage of cancer patients in cluster 1: 0.69\n",
      "Cluster of the unknown patient: 1\n"
     ]
    }
   ],
   "source": [
    "sub_preds = preds[:-1] # exclude unknown patient\n",
    "c0_perc = len(sub_preds[sub_preds == 0]) / len(sub_preds)\n",
    "c1_perc = len(sub_preds[sub_preds == 1]) / len(sub_preds)\n",
    "print(\"Percentage of cancer patients in cluster 0: {:.2f}\".format(c0_perc))\n",
    "print(\"Percentage of cancer patients in cluster 1: {:.2f}\".format(c1_perc))\n",
    "print(\"Cluster of the unknown patient: {}\".format(preds[-1]))"
   ]
  },
  {
   "cell_type": "markdown",
   "id": "e5bdafe8",
   "metadata": {},
   "source": [
    "## d."
   ]
  },
  {
   "cell_type": "markdown",
   "id": "e85b0b6f",
   "metadata": {},
   "source": [
    "40 of the 61 patients have colon cancer, whereas the resting 21 of the 61 is healty. This means their percentages are around 66% and 33% respectively. The percentages of the clusters are also 69% and 31% which is close to groundtruths. This shows K-Means algorithm did a relatively good job. Moreover, the unknown patient is assigned to the major cluster which is probably the cluster of the patients who have colon cancer. **Thus we have an intuition about the unknown patient has colon cancer.** "
   ]
  },
  {
   "cell_type": "markdown",
   "id": "c28363e7",
   "metadata": {},
   "source": [
    "## e."
   ]
  },
  {
   "cell_type": "code",
   "execution_count": 9,
   "id": "0a2d0aac",
   "metadata": {},
   "outputs": [
    {
     "data": {
      "image/png": "[encoded data removed]",
      "text/plain": [
       "<Figure size 1800x504 with 1 Axes>"
      ]
     },
     "metadata": {
      "needs_background": "light"
     },
     "output_type": "display_data"
    }
   ],
   "source": [
    "Z = linkage(normalized_dataset, method=\"average\", metric=\"correlation\")\n",
    "\n",
    "fig = plt.figure(figsize=(25, 7))\n",
    "\n",
    "dn = dendrogram(Z)\n",
    "ax = plt.gca()\n",
    "ax.tick_params(axis='x', which='major', labelsize=16)\n",
    "plt.show()"
   ]
  },
  {
   "cell_type": "code",
   "execution_count": 10,
   "id": "f6a11f09",
   "metadata": {},
   "outputs": [
    {
     "data": {
      "image/png": "[encoded data removed]",
      "text/plain": [
       "<Figure size 1800x504 with 1 Axes>"
      ]
     },
     "metadata": {
      "needs_background": "light"
     },
     "output_type": "display_data"
    }
   ],
   "source": [
    "ground_truth = np.asarray([1] * 40 + [2] * 21 + [3]).reshape(-1)\n",
    "\n",
    "fig = plt.figure(figsize=(25, 7))\n",
    "\n",
    "dn = dendrogram(Z, labels=ground_truth.tolist())\n",
    "\n",
    "ax = plt.gca()\n",
    "ax.tick_params(axis='x', which='major', labelsize=16)\n",
    "\n",
    "plt.show()"
   ]
  },
  {
   "cell_type": "markdown",
   "id": "280d5caa",
   "metadata": {},
   "source": [
    "## f."
   ]
  },
  {
   "cell_type": "markdown",
   "id": "7b8aafc4",
   "metadata": {},
   "source": [
    "The closer patients are more visible in hierachical clustering. This means we can apply the majority voting technique in the brach of which 62nd patient is under (It is 61th in the dendogram since patient ids are zero-indexed.). Therefore, we see that the majority of the samples closer to the patient 62 are in class 2, which is class id for healthy people. (Check rightmost pink branch.) **Thus we can think of that the last patient in healthy.**"
   ]
  },
  {
   "cell_type": "markdown",
   "id": "b8f7871c",
   "metadata": {},
   "source": [
    "# Question 2"
   ]
  },
  {
   "cell_type": "markdown",
   "id": "bd92ed59",
   "metadata": {},
   "source": [
    "Acknowledgements: \\\n",
    " - First I tried to use the original dataset. However, I ended up with lots of sparse graphs with lots of missing edges. \n",
    " - Then I switched to the toy dataset, which is not a cycler graph. I was able to construct the genome exactly. (Not using this code, I changed it for the second dataset.)\n",
    " - Then I tried the algorithm on the second dataset but, again, I've ended up with three graphs rather than a connected one. \n",
    " - Then I realized that if I only use the first element of the paired reads, I have a acyclic single graph. Thus I choosed to move with it.\n",
    " - However, the algorithm we discussed in the class was something similar to [Hierholzer's Algoritm](https://www.geeksforgeeks.org/hierholzers-algorithm-directed-graph/) which finds Eulerian Circuits (Cycles) on a given directed graph but not the paths. The graph I constructed using the second dataset's first pairs was acyclic, so I added an extra edge from the sink node to source node to have a cyclic one. In that way, I was able to construct a eulerian path from that graph. However, there was not a way to check it because I'm not using the pairs.\n",
    " - To wrap up, I think my subsection **a is correct** (I checked it with toy dataset in both paired and non-paired cases). My subsection **b is taken from an external source**, which I cited above. I could not think of a solution that transforms our problem to the problem we discussed in the class. I just adjusted my adjacency matrix to be consistent with that oursourced implementation. The subsection **c is written for the non-paired case**. Since the code below only works for non-paired case I implemented that but I provided a **pseudo-code for the paired case**, which I think you can take that into account for grading. "
   ]
  },
  {
   "cell_type": "code",
   "execution_count": 11,
   "id": "e83412db",
   "metadata": {},
   "outputs": [
    {
     "data": {
      "text/plain": [
       "'\\nread_pairs = []\\nfor line in toy_dataset.split(\"\\n\"):\\n    read_pairs.append(line.split(\"|\"))\\nprint(read_pairs)\\n'"
      ]
     },
     "execution_count": 11,
     "metadata": {},
     "output_type": "execute_result"
    }
   ],
   "source": [
    "toy_dataset = \"\"\"GAGA|TTGA\n",
    "TCGT|GATG\n",
    "CGTG|ATGT\n",
    "TGGT|TGAG\n",
    "GTGA|TGTT\n",
    "GTGG|GTGA\n",
    "TGAG|GTTG\n",
    "GGTC|GAGA\n",
    "GTCG|AGAT\"\"\"\n",
    "\"\"\"\n",
    "read_pairs = []\n",
    "for line in toy_dataset.split(\"\\n\"):\n",
    "    read_pairs.append(line.split(\"|\"))\n",
    "print(read_pairs)\n",
    "\"\"\""
   ]
  },
  {
   "cell_type": "code",
   "execution_count": 12,
   "id": "2eb28937",
   "metadata": {},
   "outputs": [],
   "source": [
    "read_pairs_path = \"string_reconstruction_from_read_pairs.txt\""
   ]
  },
  {
   "cell_type": "code",
   "execution_count": 13,
   "id": "d374a96a",
   "metadata": {},
   "outputs": [],
   "source": [
    "read_pairs = []\n",
    "\n",
    "with open(read_pairs_path, \"r\") as f:\n",
    "    data = f.readlines()\n",
    "\n",
    "k = data[1].split()[0]\n",
    "d = data[1].split()[1]\n",
    "output = data[-1]\n",
    "for line in data[2:-2]:\n",
    "    read_pairs.append(line.split(\"\\n\")[0].split(\"|\"))"
   ]
  },
  {
   "cell_type": "markdown",
   "id": "568a76c2",
   "metadata": {},
   "source": [
    "## a."
   ]
  },
  {
   "cell_type": "code",
   "execution_count": 14,
   "id": "c04c06ba",
   "metadata": {},
   "outputs": [],
   "source": [
    "class Node:\n",
    "    def __init__(self, data, idx):\n",
    "        self.data = data\n",
    "        self.id = idx\n",
    "        self.incoming = 0\n",
    "        self.outgoing = 0\n",
    "        self.children = []\n",
    "        self.edges = []\n",
    "        \n",
    "    def add_child(self, child, edge):\n",
    "        self.outgoing += 1\n",
    "        child.incoming += 1\n",
    "        self.children.append(child)\n",
    "        self.edges.append(Edge(edge, source=self, sink=child))\n",
    "    \n",
    "    def __str__(self):\n",
    "        return self.data\n",
    "    \n",
    "    def __eq__(self, other):\n",
    "        if(self.data == other.data):\n",
    "            return True\n",
    "        else:\n",
    "            return False\n",
    "    \n",
    "class Edge:\n",
    "    def __init__(self, data, source=None, sink=None):\n",
    "        self.data = data\n",
    "        self.source = source\n",
    "        self.sink = sink\n",
    "        self.visited = False\n",
    "        \n",
    "    def __str__(self):\n",
    "        return self.data\n",
    "        \n",
    "\n",
    "        "
   ]
  },
  {
   "cell_type": "code",
   "execution_count": 15,
   "id": "21fd7d38",
   "metadata": {},
   "outputs": [],
   "source": [
    "nodes = {}\n",
    "edges = {}\n",
    "\n",
    "\n",
    "for idx, pair in enumerate(read_pairs):\n",
    "    # unfortunately only taking first element of the pairs\n",
    "    \n",
    "    source = pair[0][:-1]\n",
    "    sink = pair[0][1:]\n",
    "    \n",
    "    #source = str([pair[0][:-1], pair[1][:-1]])\n",
    "    #sink = str([pair[0][1:], pair[1][1:]])\n",
    "    \n",
    "    if not source in nodes.keys():\n",
    "        nodes[source] = Node(source, len(nodes.keys()))\n",
    "    \n",
    "    if not sink in nodes.keys():\n",
    "        nodes[sink] = Node(sink, len(nodes.keys()))\n",
    "    \n",
    "    nodes[source].add_child(child = nodes[sink], edge=pair)\n",
    "    "
   ]
  },
  {
   "cell_type": "code",
   "execution_count": 16,
   "id": "b4c0b0db",
   "metadata": {},
   "outputs": [],
   "source": [
    "adjacency_matrix = np.zeros((len(nodes.keys()), len(nodes.keys())))\n",
    "\n",
    "for idx, node in enumerate(nodes.keys()):\n",
    "    for child in nodes[node].children:\n",
    "        sink_id = list(nodes.keys()).index(child.data)\n",
    "        adjacency_matrix[idx, sink_id] = 1"
   ]
  },
  {
   "cell_type": "code",
   "execution_count": 17,
   "id": "5638a0b9",
   "metadata": {},
   "outputs": [
    {
     "data": {
      "image/png": "[encoded data removed]",
      "text/plain": [
       "<Figure size 432x288 with 1 Axes>"
      ]
     },
     "metadata": {
      "needs_background": "light"
     },
     "output_type": "display_data"
    }
   ],
   "source": [
    "# Remember: the direction is from row id to column id\n",
    "plt.imshow(adjacency_matrix[:20, :20], cmap=\"gray\")\n",
    "plt.title(\"Adjacency Matrix: 20x20\")\n",
    "plt.show()"
   ]
  },
  {
   "cell_type": "markdown",
   "id": "2a00c136",
   "metadata": {},
   "source": [
    "## b."
   ]
  },
  {
   "cell_type": "code",
   "execution_count": 18,
   "id": "06384eac",
   "metadata": {},
   "outputs": [],
   "source": [
    "hierholzer_adj = []\n",
    "for idx, node in enumerate(nodes.keys()):\n",
    "    node_adj = []\n",
    "    for child in nodes[node].children:\n",
    "        sink_id = list(nodes.keys()).index(child.data)\n",
    "        node_adj.append(sink_id)\n",
    "\n",
    "    hierholzer_adj.append(node_adj)"
   ]
  },
  {
   "cell_type": "code",
   "execution_count": 19,
   "id": "b574d7aa",
   "metadata": {},
   "outputs": [],
   "source": [
    "def find_start_end(adj):\n",
    "    row_sum = np.sum(adj, axis=1)\n",
    "    sink_id = np.arange(0, len(adj), 1)[row_sum == 0]\n",
    "    \n",
    "    col_sum = np.sum(adj, axis=0)\n",
    "    source_id = np.arange(0, len(adj), 1)[col_sum == 0]\n",
    "    \n",
    "    return source_id[0], sink_id[0]\n",
    "    \n",
    "start, sink = find_start_end(adjacency_matrix)   \n",
    "hierholzer_adj[sink].append(start)"
   ]
  },
  {
   "cell_type": "code",
   "execution_count": 20,
   "id": "4a932b25",
   "metadata": {},
   "outputs": [],
   "source": [
    "### CAUTION!!! Taken from: https://www.geeksforgeeks.org/hierholzers-algorithm-directed-graph/\n",
    "\n",
    "adj_copy = hierholzer_adj.copy()\n",
    "# Python3 program to print Eulerian circuit in given\n",
    "# directed graph using Hierholzer algorithm\n",
    "def printCircuit(adj):\n",
    "  \n",
    "    # adj represents the adjacency list of\n",
    "    # the directed graph\n",
    "    # edge_count represents the number of edges\n",
    "    # emerging from a vertex\n",
    "    edge_count = dict()\n",
    "  \n",
    "    for i in range(len(adj)):\n",
    "  \n",
    "        # find the count of edges to keep track\n",
    "        # of unused edges\n",
    "        edge_count[i] = len(adj[i])\n",
    "  \n",
    "    if len(adj) == 0:\n",
    "        return # empty graph\n",
    "  \n",
    "    # Maintain a stack to keep vertices\n",
    "    curr_path = []\n",
    "  \n",
    "    # vector to store final circuit\n",
    "    circuit = []\n",
    "  \n",
    "    # start from any vertex\n",
    "    curr_path.append(0)\n",
    "    curr_v = 0 # Current vertex\n",
    "  \n",
    "    while len(curr_path):\n",
    "  \n",
    "        # If there's remaining edge\n",
    "        if edge_count[curr_v]:\n",
    "  \n",
    "            # Push the vertex\n",
    "            curr_path.append(curr_v)\n",
    "  \n",
    "            # Find the next vertex using an edge\n",
    "            next_v = adj[curr_v][-1]\n",
    "  \n",
    "            # and remove that edge\n",
    "            edge_count[curr_v] -= 1\n",
    "            adj[curr_v].pop()\n",
    "  \n",
    "            # Move to next vertex\n",
    "            curr_v = next_v\n",
    "  \n",
    "        # back-track to find remaining circuit\n",
    "        else:\n",
    "            circuit.append(curr_v)\n",
    "  \n",
    "            # Back-tracking\n",
    "            curr_v = curr_path[-1]\n",
    "            curr_path.pop()\n",
    "  \n",
    "    return circuit\n",
    "    \"\"\"# we've got the circuit, now print it in reverse\n",
    "    for i in range(len(circuit) - 1, -1, -1):\n",
    "        print(circuit[i], end = \"\")\n",
    "        if i:\n",
    "            print(\" -> \", end = \"\")\"\"\"\n",
    "rev_circuit = printCircuit(adj_copy)\n",
    "rev_circuit.reverse()"
   ]
  },
  {
   "cell_type": "markdown",
   "id": "f14c3cf9",
   "metadata": {},
   "source": [
    "## c."
   ]
  },
  {
   "cell_type": "code",
   "execution_count": 21,
   "id": "097847b2",
   "metadata": {},
   "outputs": [
    {
     "data": {
      "text/plain": [
       "'\\ndef construct_genome(path, k, d):\\n    # construct two pairs as two different strings\\n    s1 = path[0].data[0]\\n    s2 = path[0].data[1]\\n    \\n    # enlarge strings one by one\\n    for node in path:\\n        s1 += node.data[0][-1]\\n        s2 += node.data[1][-1]\\n        \\n    # the first k + d elements are from s1 and the rest is s2\\n    # or you can take the last ones from s2 and use s1 instead\\n    return s1[:k+d] + s2\\n'"
      ]
     },
     "execution_count": 21,
     "metadata": {},
     "output_type": "execute_result"
    }
   ],
   "source": [
    "# pseudo-code for paired case\n",
    "\"\"\"\n",
    "def construct_genome(path, k, d):\n",
    "    # construct two pairs as two different strings\n",
    "    s1 = path[0].data[0]\n",
    "    s2 = path[0].data[1]\n",
    "    \n",
    "    # enlarge strings one by one\n",
    "    for node in path:\n",
    "        s1 += node.data[0][-1]\n",
    "        s2 += node.data[1][-1]\n",
    "        \n",
    "    # the first k + d elements are from s1 and the rest is s2\n",
    "    # or you can take the last ones from s2 and use s1 instead\n",
    "    return s1[:k+d] + s2\n",
    "\"\"\""
   ]
  },
  {
   "cell_type": "code",
   "execution_count": 22,
   "id": "7b5645f7",
   "metadata": {},
   "outputs": [],
   "source": [
    "def construct_genome(circuit, k, d):\n",
    "    s = list(nodes.keys())[circuit[0]]\n",
    "    for i in circuit[1:]:\n",
    "        s += list(nodes.keys())[i][-1]\n",
    "        \n",
    "    return s\n",
    "s_final = construct_genome(rev_circuit, k, d)"
   ]
  },
  {
   "cell_type": "code",
   "execution_count": 23,
   "id": "4bafcebf",
   "metadata": {},
   "outputs": [
    {
     "name": "stdout",
     "output_type": "stream",
     "text": [
      "First 200: \n",
      " AAACTTTACAATCATTAGGGTCGCCAGTGGAGAATCTATAGAATCTTTTCTACAGGCTACAGAGAAGCATTTTTCACAGGACCGCGTGGCGCAAACAATCCGATGGGGACCATCTGTGAACTCCCATACGTGACTATTCTGTGTCACATGAGGGGAGCTAGGGGGATTGAGTGCTCATGTCGGTTGGAGACCATTTTGAG\n",
      "Last 200: \n",
      " TGCTCACTCGATTGGGAATCTAATGCGGTCTGCCATGGGGCGAGTTAATTGAAGTTTGCCTAGACACCGCTGAGGCTGGTTCGACATACCCTTAGGGAGGCCAAGCTATATAAAACCAAGATCATTGACCCCCTACGTGATACGTGATTTCAAACTTTACAATCATTAGGGTCGCCAGTGGAGAATCTATAGAATCTTTT\n"
     ]
    }
   ],
   "source": [
    "print(\"First 200: \\n {}\".format(s_final[:200]))\n",
    "print(\"Last 200: \\n {}\".format(s_final[-200:]))"
   ]
  },
  {
   "cell_type": "markdown",
   "id": "b3c1e450",
   "metadata": {},
   "source": [
    "## d."
   ]
  },
  {
   "cell_type": "markdown",
   "id": "fa1a94de",
   "metadata": {},
   "source": [
    "If we had 2N independent pairs instead of N paired reads, obtaining the final genome sequence would be harder. The reason is the paired samples allow us to reduce possible sequences since they add additional constraint. Also, in real cases there might be missing parts in the genome reads due to errors happend while reading. The paired samples provides us redundancy which provides more error-tolerant genome construction."
   ]
  },
  {
   "cell_type": "code",
   "execution_count": null,
   "id": "05fcc990",
   "metadata": {},
   "outputs": [],
   "source": []
  }
 ],
 "metadata": {
  "kernelspec": {
   "display_name": "Python 3",
   "language": "python",
   "name": "python3"
  },
  "language_info": {
   "codemirror_mode": {
    "name": "ipython",
    "version": 3
   },
   "file_extension": ".py",
   "mimetype": "text/x-python",
   "name": "python",
   "nbconvert_exporter": "python",
   "pygments_lexer": "ipython3",
   "version": "3.6.13"
  }
 },
 "nbformat": 4,
 "nbformat_minor": 5
}
