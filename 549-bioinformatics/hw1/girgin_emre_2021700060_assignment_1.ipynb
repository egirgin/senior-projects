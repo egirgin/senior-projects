{
 "cells": [
  {
   "cell_type": "markdown",
   "id": "0cacd5a1",
   "metadata": {},
   "source": [
    "# CmpE 549 - Bioinformatics\n",
    "## Assignment 1\n",
    "\n",
    "**Name&Surname:** Emre Girgin \\\n",
    "**ID:** 2021700060"
   ]
  },
  {
   "cell_type": "code",
   "execution_count": 1,
   "id": "5f401e03",
   "metadata": {},
   "outputs": [],
   "source": [
    "import itertools\n",
    "\n",
    "import numpy as np\n",
    "import matplotlib.pyplot as plt\n",
    "import seaborn as sn\n",
    "from Bio import SeqIO, Phylo\n",
    "from Bio.Phylo.BaseTree import Clade, Tree\n",
    "\n",
    "np.random.seed(42)\n",
    "main_path = \"./UK-Coronavirus-Data/UK Coronavirus Data/Coronavirus Samples/\""
   ]
  },
  {
   "cell_type": "markdown",
   "id": "2c5134e7",
   "metadata": {},
   "source": [
    "### Question 1"
   ]
  },
  {
   "cell_type": "code",
   "execution_count": 2,
   "id": "4c7a2f99",
   "metadata": {},
   "outputs": [],
   "source": [
    "fasta_path_aligned = main_path + \"England (NOV032020)/HCOV19-ENGLAND-031120-A.fasta\""
   ]
  },
  {
   "cell_type": "markdown",
   "id": "f1e279ca",
   "metadata": {},
   "source": [
    "#### a-)"
   ]
  },
  {
   "cell_type": "code",
   "execution_count": 3,
   "id": "6358e8bd",
   "metadata": {},
   "outputs": [],
   "source": [
    "def get_samples(path, n=20):\n",
    "    samples = []\n",
    "    with open(path) as handle:\n",
    "        for record in SeqIO.parse(handle, \"fasta\"):\n",
    "            record = [nucleotide for nucleotide in str(record.seq)]\n",
    "            record = [\"-\" if (nucleotide != \"A\" and nucleotide != \"T\" and nucleotide != \"G\" and nucleotide != \"C\") else nucleotide for nucleotide in record]\n",
    "            samples.append(record)\n",
    "\n",
    "    if n != -1:\n",
    "        return np.asarray(samples[:n])\n",
    "    else:\n",
    "        return np.asarray(samples)"
   ]
  },
  {
   "cell_type": "markdown",
   "id": "216db10d",
   "metadata": {},
   "source": [
    "#### b-)"
   ]
  },
  {
   "cell_type": "code",
   "execution_count": 4,
   "id": "238183b3",
   "metadata": {},
   "outputs": [],
   "source": [
    "from matplotlib.pyplot import figure\n",
    "\n",
    "\n",
    "def visualize(samples, n):\n",
    "    figure(figsize=(15, 10), dpi=150)\n",
    "    \n",
    "    samples = samples[:, :n]\n",
    "    \n",
    "    nucleotide_types = [\"-\", \"A\", \"T\", \"G\", \"C\"]\n",
    "    n_nucleotide_types = 5\n",
    "    \n",
    "    colormap = np.asarray([\n",
    "        [1, 1, 1], # indel\n",
    "        [1, 0, 0], # A\n",
    "        [0, 1, 0], # T\n",
    "        [0, 0, 1], # G\n",
    "        [0, 0, 0] # C\n",
    "    ])\n",
    "        \n",
    "    img = np.zeros((samples.shape[0], n, 3))\n",
    "    \n",
    "    for row, seq in enumerate(samples):\n",
    "        for col, nucleotide in enumerate(seq):\n",
    "            if nucleotide == \"-\":\n",
    "                img[row, col] = colormap[0]\n",
    "            elif nucleotide == \"A\":\n",
    "                img[row, col] = colormap[1]\n",
    "            elif nucleotide == \"T\":\n",
    "                img[row, col] = colormap[2]\n",
    "            elif nucleotide == \"G\":\n",
    "                img[row, col] = colormap[3]\n",
    "            elif nucleotide == \"C\":\n",
    "                img[row, col] = colormap[4]\n",
    "            else:\n",
    "                return 0\n",
    "            \n",
    "    plt.imshow(img)\n",
    "    plt.title(\"Sequences\")\n",
    "    plt.show()\n",
    "    \n",
    "    colormap = colormap.reshape(1,n_nucleotide_types,3)/1.0\n",
    "    plt.imshow(colormap)\n",
    "    plt.title(\"Colormap: {}\".format(\"/\".join(nucleotide_types)))\n",
    "    plt.show()\n",
    "    \n",
    "    \n",
    "    \n",
    "            "
   ]
  },
  {
   "cell_type": "code",
   "execution_count": 5,
   "id": "0686242c",
   "metadata": {},
   "outputs": [],
   "source": [
    "samples_20 = get_samples(path=fasta_path_aligned, n=20)\n",
    "samples_20 = samples_20[:, 21563:25385]"
   ]
  },
  {
   "cell_type": "code",
   "execution_count": 6,
   "id": "09092bca",
   "metadata": {},
   "outputs": [
    {
     "data": {
      "image/png": "[encoded data removed]",
      "text/plain": [
       "<Figure size 2250x1500 with 1 Axes>"
      ]
     },
     "metadata": {
      "needs_background": "light"
     },
     "output_type": "display_data"
    },
    {
     "data": {
      "image/png": "[encoded data removed]",
      "text/plain": [
       "<Figure size 432x288 with 1 Axes>"
      ]
     },
     "metadata": {
      "needs_background": "light"
     },
     "output_type": "display_data"
    }
   ],
   "source": [
    "visualize(samples_20, 200)"
   ]
  },
  {
   "cell_type": "markdown",
   "id": "7ad79068",
   "metadata": {},
   "source": [
    "#### c-)\n",
    "We can see the obvious patterns in the columns of the visualization plot. Most of the sequences has almost the same order of nucleotides. However, there are some obvious outliers. For example starting from zero to around *80th* nucleotide, the third sequence has indels in it. Another one is at the 50th nucleotide. This may be caused by a mutation."
   ]
  },
  {
   "cell_type": "markdown",
   "id": "cae204c2",
   "metadata": {},
   "source": [
    "#### d-)"
   ]
  },
  {
   "cell_type": "code",
   "execution_count": 7,
   "id": "dc4ff89e",
   "metadata": {},
   "outputs": [],
   "source": [
    "samples_100 = get_samples(path=fasta_path_aligned, n=100)"
   ]
  },
  {
   "cell_type": "code",
   "execution_count": 8,
   "id": "80e131be",
   "metadata": {},
   "outputs": [
    {
     "name": "stdout",
     "output_type": "stream",
     "text": [
      "Entropy of 100 aligned samples: 0.3863867062886037\n"
     ]
    }
   ],
   "source": [
    "def entropy(samples):\n",
    "    \n",
    "    n_seq = samples.shape[0]\n",
    "    t_ent = 0\n",
    "    \n",
    "    for column in samples.T:\n",
    "        col_ent = 0\n",
    "        value, count = np.unique(column, return_counts=True)\n",
    "        for c in count:\n",
    "            p_x = c/n_seq\n",
    "            col_ent -= p_x * np.log(p_x)\n",
    "            \n",
    "        t_ent += col_ent\n",
    "    return col_ent\n",
    "\n",
    "print(\"Entropy of 100 aligned samples: {}\".format(entropy(samples_100)))"
   ]
  },
  {
   "cell_type": "markdown",
   "id": "0aa0854c",
   "metadata": {},
   "source": [
    "### Question 2"
   ]
  },
  {
   "cell_type": "code",
   "execution_count": 9,
   "id": "f7e9c1ba",
   "metadata": {},
   "outputs": [],
   "source": [
    "fasta_path_unaligned = main_path + \"England (NOV032020)/HCOV19-ENGLAND-031120.fasta\""
   ]
  },
  {
   "cell_type": "markdown",
   "id": "bca92b28",
   "metadata": {},
   "source": [
    "#### a-)"
   ]
  },
  {
   "cell_type": "code",
   "execution_count": 10,
   "id": "d0692ead",
   "metadata": {},
   "outputs": [
    {
     "name": "stderr",
     "output_type": "stream",
     "text": [
      "/tmp/ipykernel_10046/230746868.py:10: VisibleDeprecationWarning: Creating an ndarray from ragged nested sequences (which is a list-or-tuple of lists-or-tuples-or ndarrays with different lengths or shapes) is deprecated. If you meant to do this, you must specify 'dtype=object' when creating the ndarray.\n",
      "  return np.asarray(samples[:n])\n"
     ]
    }
   ],
   "source": [
    "samples_unaligned = get_samples(path=fasta_path_unaligned, n=5) # read all\n",
    "samples_unaligned = [samples_unaligned[i][21600:21800] for i in range(samples_unaligned.shape[0])]\n",
    "samples_unaligned = np.asarray(samples_unaligned)"
   ]
  },
  {
   "cell_type": "code",
   "execution_count": 11,
   "id": "1e4ac6c9",
   "metadata": {},
   "outputs": [
    {
     "name": "stdout",
     "output_type": "stream",
     "text": [
      "Unaligned Shape: (5, 200)\n"
     ]
    }
   ],
   "source": [
    "#samples_unaligned = samples_unaligned[:, 21600:21800]\n",
    "print(\"Unaligned Shape: {}\".format(samples_unaligned.shape))"
   ]
  },
  {
   "cell_type": "code",
   "execution_count": 12,
   "id": "da1cc8a7",
   "metadata": {},
   "outputs": [
    {
     "data": {
      "image/png": "[encoded data removed]",
      "text/plain": [
       "<Figure size 2250x1500 with 1 Axes>"
      ]
     },
     "metadata": {
      "needs_background": "light"
     },
     "output_type": "display_data"
    },
    {
     "data": {
      "image/png": "[encoded data removed]",
      "text/plain": [
       "<Figure size 432x288 with 1 Axes>"
      ]
     },
     "metadata": {
      "needs_background": "light"
     },
     "output_type": "display_data"
    }
   ],
   "source": [
    "visualize(samples_unaligned, n=200)"
   ]
  },
  {
   "cell_type": "markdown",
   "id": "908989e9",
   "metadata": {},
   "source": [
    "#### b-) "
   ]
  },
  {
   "cell_type": "code",
   "execution_count": 13,
   "id": "f4fed548",
   "metadata": {},
   "outputs": [],
   "source": [
    "# Adjusted from my previous implementations \n",
    "# Source: https://github.com/egirgin/senior-projects/blob/master/493-Inf-Retrv/p1-edit-distance/edit-distance.py\n",
    "def needlemanWunsch(s1, s2):\n",
    "    cost = -4\n",
    "    reward = 5\n",
    "    \n",
    "    alignmentMatrix = np.zeros((len(s1)+1, len(s2)+1))\n",
    "\n",
    "    for i in range(len(s1)+1):\n",
    "        alignmentMatrix[i][0] = i*cost\n",
    "    for i in range(len(s2)+1):\n",
    "        alignmentMatrix[0][i] = i*cost\n",
    "    for i in range(1,len(s1)+1):\n",
    "        for j in range(1,len(s2)+1):\n",
    "            if s1[i-1] == s2[j-1]:\n",
    "                alignmentMatrix[i][j] = max(\n",
    "                    alignmentMatrix[i-1][j] + cost, # Delete\n",
    "                    alignmentMatrix[i][j-1] + cost, # Insert\n",
    "                    alignmentMatrix[i-1][j-1] + reward # Copy\n",
    "                )\n",
    "            else:\n",
    "                alignmentMatrix[i][j] = max(\n",
    "                    alignmentMatrix[i-1][j] + cost, # Delete\n",
    "                    alignmentMatrix[i][j-1] + cost, # Insert\n",
    "                    alignmentMatrix[i-1][j-1] + cost # Replace\n",
    "                )\n",
    "    return np.asarray(alignmentMatrix)"
   ]
  },
  {
   "cell_type": "markdown",
   "id": "c36f2e73",
   "metadata": {},
   "source": [
    "#### c-)"
   ]
  },
  {
   "cell_type": "markdown",
   "id": "a6cb1208",
   "metadata": {},
   "source": [
    "Note that the pairwise scores obtained by Needleman-Wunsch global sequence alignment algorithm is normalized to be used as a distance metric as follows: $$\\$$\n",
    "\n",
    "$$dist(i,j) = max(alignmentMatrix) - alignmentScore(i,j)$$"
   ]
  },
  {
   "cell_type": "code",
   "execution_count": 14,
   "id": "92643751",
   "metadata": {},
   "outputs": [
    {
     "name": "stdout",
     "output_type": "stream",
     "text": [
      "[[  0.   0.   0.   0.   0.]\n",
      " [286.   0.   0.   0.   0.]\n",
      " [208.  78.   0.   0.   0.]\n",
      " [286.   0.  78.   0.   0.]\n",
      " [208.  78.   0.  78.   0.]]\n"
     ]
    }
   ],
   "source": [
    "def distance_matrix(samples):\n",
    "\n",
    "    pairwise_dists = np.zeros((samples.shape[0], samples.shape[0]))\n",
    "\n",
    "    for id1 in range(samples.shape[0]):\n",
    "        for id2 in range(id1, samples.shape[0]):\n",
    "            seq1 = samples[id1]\n",
    "            seq2 = samples[id2]\n",
    "            \n",
    "            seq1 = \"\".join(seq1)\n",
    "            seq2 = \"\".join(seq2)\n",
    "            pairwise_dists[id2, id1] = needlemanWunsch(seq1, seq2)[-1, -1]\n",
    "            \n",
    "    max_element = np.max(pairwise_dists)\n",
    "    \n",
    "    pairwise_dists = max_element - pairwise_dists\n",
    "    pairwise_dists[pairwise_dists == max_element] = 0\n",
    "\n",
    "    return pairwise_dists\n",
    "\n",
    "pairwise_dists = distance_matrix(samples_unaligned)\n",
    "print(pairwise_dists)"
   ]
  },
  {
   "cell_type": "markdown",
   "id": "8a020269",
   "metadata": {},
   "source": [
    "#### d-)"
   ]
  },
  {
   "cell_type": "code",
   "execution_count": 15,
   "id": "c6b7e148",
   "metadata": {},
   "outputs": [],
   "source": [
    "from Bio.Align import MultipleSeqAlignment\n",
    "from Bio.Seq import Seq\n",
    "from Bio.SeqRecord import SeqRecord\n",
    "\n",
    "def convert2Phylo(samples):\n",
    "    samples = [ SeqRecord(Seq(\"\".join(seq)), id=str(idx)) for idx, seq in enumerate(samples)]\n",
    "    return MultipleSeqAlignment(samples)\n",
    "    \n",
    "    \n",
    "alignment_seq = convert2Phylo(samples_unaligned)"
   ]
  },
  {
   "cell_type": "code",
   "execution_count": 16,
   "id": "4c171549",
   "metadata": {},
   "outputs": [
    {
     "name": "stdout",
     "output_type": "stream",
     "text": [
      "Tree(rooted=False)\n",
      "    Clade(branch_length=0, name='Inner3')\n",
      "        Clade(branch_length=0.0, name='Inner2')\n",
      "            Clade(branch_length=208.0, name='0')\n",
      "            Clade(branch_length=78.0, name='Inner1')\n",
      "                Clade(branch_length=0.0, name='3')\n",
      "                Clade(branch_length=0.0, name='1')\n",
      "        Clade(branch_length=0.0, name='2')\n",
      "        Clade(branch_length=0.0, name='4')\n"
     ]
    }
   ],
   "source": [
    "from Bio.Phylo.TreeConstruction import DistanceCalculator\n",
    "from Bio.Phylo.TreeConstruction import DistanceTreeConstructor, DistanceMatrix\n",
    "\n",
    "tree_matrix = [row[:idx+1].tolist() for idx, row in enumerate(np.tril(pairwise_dists, 0))]\n",
    "constructor = DistanceTreeConstructor()\n",
    "tree = constructor.nj(DistanceMatrix(names=['0', '1', '2', '3', '4'], matrix=tree_matrix))\n",
    "print(tree)"
   ]
  },
  {
   "cell_type": "markdown",
   "id": "e185167a",
   "metadata": {},
   "source": [
    "#### e-)"
   ]
  },
  {
   "cell_type": "code",
   "execution_count": 17,
   "id": "d9ac6f50",
   "metadata": {},
   "outputs": [
    {
     "data": {
      "image/png": "[encoded data removed]",
      "text/plain": [
       "<Figure size 1500x600 with 1 Axes>"
      ]
     },
     "metadata": {
      "needs_background": "light"
     },
     "output_type": "display_data"
    }
   ],
   "source": [
    "fig = plt.figure(figsize=(15, 6), dpi=100)\n",
    "axes = fig.add_subplot(1, 1, 1)\n",
    "Phylo.draw(tree, axes=axes)"
   ]
  },
  {
   "cell_type": "code",
   "execution_count": 18,
   "id": "96cda14c",
   "metadata": {},
   "outputs": [],
   "source": [
    "operationsStack = []\n",
    "\n",
    "def backtrack(matrix, row, column):\n",
    "    global operationsStack\n",
    "\n",
    "    leftNeighbor = matrix[row][column-1]\n",
    "    cornerNeighbor = matrix[row-1][column-1]\n",
    "    upperNeighbor = matrix[row-1][column]\n",
    "\n",
    "    # Try to reach 0,0 point\n",
    "    if row == 0 and column == 0:\n",
    "        return\n",
    "\n",
    "    # First check if copy is possible\n",
    "    if max(leftNeighbor, cornerNeighbor, upperNeighbor) == cornerNeighbor:\n",
    "        if matrix[row][column] < cornerNeighbor:\n",
    "            operationsStack.append(\"Mismatch\")\n",
    "        else:\n",
    "            operationsStack.append(\"Match\")\n",
    "            \n",
    "        backtrack(matrix, row-1, column-1)\n",
    "    # Insertion and Deletion have the same cost\n",
    "    elif max(leftNeighbor, cornerNeighbor, upperNeighbor) == leftNeighbor:\n",
    "        operationsStack.append(\"Insertion\")\n",
    "        backtrack(matrix, row, column-1)\n",
    "    elif max(leftNeighbor, cornerNeighbor, upperNeighbor) == upperNeighbor:\n",
    "        operationsStack.append(\"Deletion\")\n",
    "        backtrack(matrix, row-1, column)\n",
    "\n",
    "\n",
    "def distance_multiple(s1, s2):\n",
    "\n",
    "    cost = -4\n",
    "    reward = 5\n",
    "    \n",
    "    alignmentMatrix = np.zeros((s1.shape[1]+1, s2.shape[1]+1))\n",
    "\n",
    "    for i in range(s1.shape[1]+1):\n",
    "        alignmentMatrix[i][0] = i*cost\n",
    "    \n",
    "    for i in range(s2.shape[1]+1):\n",
    "        alignmentMatrix[0][i] = i*cost\n",
    "        \n",
    "    for i in range(1,s1.shape[1]+1):\n",
    "        for j in range(1,s2.shape[1]+1):\n",
    "            \n",
    "            if set(s1[:, i-1]) & set(s2[:, j-1]):\n",
    "                alignmentMatrix[i][j] = max(\n",
    "                    alignmentMatrix[i-1][j] + cost, # Delete\n",
    "                    alignmentMatrix[i][j-1] + cost, # Insert\n",
    "                    alignmentMatrix[i-1][j-1] + reward # Copy\n",
    "                )\n",
    "            else:\n",
    "                alignmentMatrix[i][j] = max(\n",
    "                    alignmentMatrix[i-1][j] + cost, # Delete\n",
    "                    alignmentMatrix[i][j-1] + cost, # Insert\n",
    "                    alignmentMatrix[i-1][j-1] + cost # Replace\n",
    "                )\n",
    "    return np.asarray(alignmentMatrix)\n",
    "\n",
    "def align_multiple(seq1, seq2, operations):\n",
    "    ops = operations.copy()\n",
    "    ops.reverse()\n",
    "    \n",
    "    new_seq1 = np.zeros((seq1.shape[0], len(ops)), dtype=object)\n",
    "    new_seq2 = np.zeros((seq2.shape[0], len(ops)), dtype=object)\n",
    "    \n",
    "    idx_seq1 = 0\n",
    "    idx_seq2 = 0\n",
    "    \n",
    "    for idx, op in enumerate(ops):\n",
    "        if op == \"Match\" or op == \"Mismatch\":\n",
    "            new_seq1[:, idx] = seq1[:, idx_seq1]\n",
    "            new_seq2[:, idx] = seq2[:, idx_seq2]\n",
    "            idx_seq1 += 1\n",
    "            idx_seq2 += 1\n",
    "        elif op == \"Insertion\":\n",
    "            new_seq1[:, idx] = np.asarray([\"-\"] * seq1.shape[0], dtype=\"object\")\n",
    "            new_seq2[:, idx] = seq2[:, idx]\n",
    "            idx_seq2 += 1\n",
    "        elif op == \"Deletion\":\n",
    "            new_seq1[:, idx] = seq1[:, idx_seq1]\n",
    "            new_seq2[:, idx] = np.asarray([\"-\"] * seq2.shape[0], dtype=\"object\")\n",
    "            idx_seq1 += 1\n",
    "            \n",
    "    return np.vstack((new_seq1, new_seq2))"
   ]
  },
  {
   "cell_type": "code",
   "execution_count": 19,
   "id": "826e3225",
   "metadata": {},
   "outputs": [],
   "source": [
    "def align_wrapper(seq1, seq2):\n",
    "    global operationsStack\n",
    "    \n",
    "    dist_matrix = distance_multiple(seq1, seq2)\n",
    "    \n",
    "    operationsStack = []\n",
    "    backtrack(dist_matrix, seq1.shape[1], seq2.shape[1])\n",
    "    \n",
    "    aligned = align_multiple(seq1, seq2, operationsStack)\n",
    "    \n",
    "    return aligned\n",
    "    \n",
    "    \n",
    "inner1 = align_wrapper(\n",
    "                np.expand_dims(samples_unaligned[1], axis=0), \n",
    "                np.expand_dims(samples_unaligned[3], axis=0)\n",
    "                )\n",
    "\n",
    "inner2 = align_wrapper(\n",
    "                inner1, \n",
    "                np.expand_dims(samples_unaligned[0], axis=0)\n",
    "                )\n",
    "\n",
    "inner3 = align_wrapper(\n",
    "                np.expand_dims(samples_unaligned[2], axis=0), \n",
    "                np.expand_dims(samples_unaligned[4], axis=0)\n",
    "                )\n",
    "\n",
    "inner_all = align_wrapper(inner2, inner3)"
   ]
  },
  {
   "cell_type": "markdown",
   "id": "fcfb6a80",
   "metadata": {},
   "source": [
    "#### f-)"
   ]
  },
  {
   "cell_type": "markdown",
   "id": "79de276b",
   "metadata": {},
   "source": [
    "Remember the alignment order: \n",
    "<ol>\n",
    "  <li>inner1 = align(1, 3)</li>\n",
    "  <li>inner2 = align(inner1, 0)</li>\n",
    "  <li>inner3 = align(2, 4)</li>\n",
    "  <li>innerFinal = align(inner2, inner3)</li>\n",
    "</ol> \n"
   ]
  },
  {
   "cell_type": "code",
   "execution_count": 20,
   "id": "50ca87d8",
   "metadata": {
    "scrolled": true
   },
   "outputs": [
    {
     "data": {
      "image/png": "[encoded data removed]",
      "text/plain": [
       "<Figure size 2250x1500 with 1 Axes>"
      ]
     },
     "metadata": {
      "needs_background": "light"
     },
     "output_type": "display_data"
    },
    {
     "data": {
      "image/png": "[encoded data removed]",
      "text/plain": [
       "<Figure size 432x288 with 1 Axes>"
      ]
     },
     "metadata": {
      "needs_background": "light"
     },
     "output_type": "display_data"
    }
   ],
   "source": [
    "visualize(inner_all, inner_all.shape[1])"
   ]
  },
  {
   "cell_type": "markdown",
   "id": "28a5e39a",
   "metadata": {},
   "source": [
    "### Question 3-)"
   ]
  },
  {
   "cell_type": "code",
   "execution_count": 21,
   "id": "7e31aa48",
   "metadata": {},
   "outputs": [],
   "source": [
    "aligned_3nov = main_path + \"England (NOV032020)/HCOV19-ENGLAND-031120-A.fasta\"\n",
    "aligned_27nov = main_path + \"England (NOV272020)/HCOV19-ENGLAND-271120-A.fasta\"\n",
    "aligned_8dec = main_path + \"England (DEC082020)/HCOV19-ENGLAND-081220-A.fasta\"\n",
    "\n",
    "samples_3nov = get_samples(path=aligned_3nov, n=4)[:, 21563:25385]\n",
    "samples_27nov = get_samples(path=aligned_27nov, n=4)[:, 21563:25385]\n",
    "samples_8dec = get_samples(path=aligned_8dec, n=4)[:, 21563:25385]\n",
    "\n",
    "samples_12 = np.vstack((samples_3nov, samples_27nov, samples_8dec))\n",
    "samples_12_obj = convert2Phylo(samples_12)"
   ]
  },
  {
   "cell_type": "code",
   "execution_count": 22,
   "id": "f8a7c06d",
   "metadata": {},
   "outputs": [
    {
     "data": {
      "text/plain": [
       "(12, 3822)"
      ]
     },
     "execution_count": 22,
     "metadata": {},
     "output_type": "execute_result"
    }
   ],
   "source": [
    "samples_12.shape"
   ]
  },
  {
   "cell_type": "markdown",
   "id": "0cd2e7d4",
   "metadata": {},
   "source": [
    "#### a-)"
   ]
  },
  {
   "cell_type": "markdown",
   "id": "6753091c",
   "metadata": {},
   "source": [
    "**Note that** the distance matrix is read from the file _3a_distmatrix.npy_ while testing because it take so much time to compute. This is done for acceleration."
   ]
  },
  {
   "cell_type": "code",
   "execution_count": 40,
   "id": "2072ddd6",
   "metadata": {},
   "outputs": [],
   "source": [
    "import os\n",
    "\n",
    "dist_matrix_filename = \"3a_distmatrix.npy\"\n",
    "\n",
    "if dist_matrix_filename in os.listdir(\".\"):\n",
    "    with open(dist_matrix_filename, \"br\") as dm_file:\n",
    "        dm_12 = np.load(dm_file)\n",
    "else:\n",
    "    dm_12 = distance_matrix(samples_12)\n",
    "    with open(dist_matrix_filename, \"bw+\") as dm_file:\n",
    "        np.save(dm_file, dm_12)"
   ]
  },
  {
   "cell_type": "code",
   "execution_count": 41,
   "id": "25494797",
   "metadata": {},
   "outputs": [
    {
     "data": {
      "image/png": "[encoded data removed]",
      "text/plain": [
       "<Figure size 432x288 with 2 Axes>"
      ]
     },
     "metadata": {
      "needs_background": "light"
     },
     "output_type": "display_data"
    }
   ],
   "source": [
    "# plotting the heatmap\n",
    "hm = sn.heatmap(data = dm_12)\n",
    "  \n",
    "# displaying the plotted heatmap\n",
    "plt.show()"
   ]
  },
  {
   "cell_type": "markdown",
   "id": "1d5b16a8",
   "metadata": {},
   "source": [
    "#### b-)"
   ]
  },
  {
   "cell_type": "markdown",
   "id": "c5b1ac3e",
   "metadata": {},
   "source": [
    "I did not used the Newick format because I implemented the solution before the updates. I rather used Clades."
   ]
  },
  {
   "cell_type": "code",
   "execution_count": 26,
   "id": "60a97264",
   "metadata": {},
   "outputs": [],
   "source": [
    "def upgm_helper(distance_matrix, clades):\n",
    "    \n",
    "    min_value = np.inf\n",
    "    min_indices = (0,0)\n",
    "    \n",
    "    for i in range(distance_matrix.shape[0]):\n",
    "        for j in range(distance_matrix.shape[1]):\n",
    "            if distance_matrix[i,j] < min_value and distance_matrix[i,j] > 0:\n",
    "                min_value = distance_matrix[i,j]\n",
    "                min_indices = (i,j)\n",
    "        \n",
    "    seq_id1 = min_indices[0]\n",
    "    seq_id2 = min_indices[1]\n",
    "\n",
    "    \n",
    "    seq1_clade = clades[seq_id1]\n",
    "    seq2_clade = clades[seq_id2]\n",
    "    \n",
    "    new_clade = Clade(\n",
    "        branch_length = distance_matrix[seq_id1, seq_id2]/2,\n",
    "        clades = [seq1_clade, seq2_clade]\n",
    "    )\n",
    "        \n",
    "    clades[seq_id1] = new_clade\n",
    "    del clades[seq_id2]\n",
    "    \n",
    "    row_mean = (distance_matrix[seq_id1] + distance_matrix[seq_id2])/2\n",
    "    row_mean[seq_id1] = 0\n",
    "    row_mean[seq_id2] = 0\n",
    "    #row_mean = np.delete(row_mean, seq_id2, axis=0)\n",
    "    \n",
    "    col_mean = (distance_matrix[:,seq_id1] + distance_matrix[:, seq_id2])/2\n",
    "    col_mean[seq_id1] = 0\n",
    "    col_mean[seq_id2] = 0\n",
    "    #col_mean = np.delete(col_mean, seq_id2, axis=0)\n",
    "    \n",
    "    distance_matrix[seq_id1] = row_mean\n",
    "    distance_matrix[:, seq_id1] = col_mean\n",
    "    \n",
    "    #print(\"{} is now {}and{}\".format(seq_id1, seq_id1, seq_id2))\n",
    "    \n",
    "    \n",
    "    distance_matrix = np.delete(distance_matrix, seq_id2, axis=0)\n",
    "    distance_matrix = np.delete(distance_matrix, seq_id2, axis=1)\n",
    "        \n",
    "    \n",
    "    return distance_matrix, min_indices, clades\n",
    "\n",
    "\n",
    "def upgm(distance_matrix, clades):\n",
    "    dist_matrix = distance_matrix.copy()\n",
    "    dm, indices, clades = upgm_helper(dist_matrix, clades.copy())\n",
    "    #print(dm)\n",
    "    #print(clades)\n",
    "    return dm, clades\n",
    "\n",
    "def construct_upgm(distance_matrix):\n",
    "    clades = [\n",
    "        Clade(branch_length=0, name=\"seq{}\".format(i)) for i in range(distance_matrix.shape[0])\n",
    "    ]\n",
    "    clades_new = clades\n",
    "    dm_new = distance_matrix.copy()\n",
    "    while len(clades_new) > 1:\n",
    "        dm_new, clades_new = upgm(dm_new, clades_new)\n",
    "    my_upgma_tree = Tree(root= clades_new[0], rooted=True)\n",
    "    \n",
    "    return my_upgma_tree\n",
    "    "
   ]
  },
  {
   "cell_type": "code",
   "execution_count": 27,
   "id": "d4402405",
   "metadata": {},
   "outputs": [],
   "source": [
    "my_upgma_tree = construct_upgm(dm_12) # TODO"
   ]
  },
  {
   "cell_type": "markdown",
   "id": "2b6f7f60",
   "metadata": {},
   "source": [
    "#### c-)"
   ]
  },
  {
   "cell_type": "code",
   "execution_count": 28,
   "id": "fdd4195d",
   "metadata": {},
   "outputs": [
    {
     "data": {
      "image/png": "[encoded data removed]",
      "text/plain": [
       "<Figure size 1500x600 with 1 Axes>"
      ]
     },
     "metadata": {
      "needs_background": "light"
     },
     "output_type": "display_data"
    }
   ],
   "source": [
    "fig = plt.figure(figsize=(15, 6), dpi=100)\n",
    "axes = fig.add_subplot(1, 1, 1)\n",
    "Phylo.draw(my_upgma_tree, axes=axes)"
   ]
  },
  {
   "cell_type": "markdown",
   "id": "10d7f93e",
   "metadata": {},
   "source": [
    "#### d-)"
   ]
  },
  {
   "cell_type": "code",
   "execution_count": 43,
   "id": "6ce71a60",
   "metadata": {},
   "outputs": [],
   "source": [
    "dm12_converted = []\n",
    "\n",
    "for i in range(dm_12.shape[0]):\n",
    "    dm12_converted.append(dm_12[i, :i+1].tolist())\n",
    "    \n",
    "dm12_converted = DistanceMatrix(names=[str(i) for i in range(dm_12.shape[0])], matrix=dm12_converted)"
   ]
  },
  {
   "cell_type": "code",
   "execution_count": 36,
   "id": "caaa4c75",
   "metadata": {},
   "outputs": [
    {
     "data": {
      "image/png": "[encoded data removed]",
      "text/plain": [
       "<Figure size 1500x600 with 1 Axes>"
      ]
     },
     "metadata": {
      "needs_background": "light"
     },
     "output_type": "display_data"
    }
   ],
   "source": [
    "tree = constructor.upgma(dm12_converted) \n",
    "fig = plt.figure(figsize=(15, 6), dpi=100)\n",
    "axes = fig.add_subplot(1, 1, 1)\n",
    "Phylo.draw(tree, axes=axes)"
   ]
  },
  {
   "cell_type": "markdown",
   "id": "459ce0fd",
   "metadata": {},
   "source": [
    "There is some obvisous differences between my tree and the tree _Phylo_ constructed. The reason is the construction order. For example, mine tree started to align from 5th and 6th sequences which have 0 distance according to the matrix **3.a**. However, we see that _Phylo_ alignes sequnce 5 with sequence 11, where their pairwise distance is also zero. This choices results the difference in the trees. "
   ]
  },
  {
   "cell_type": "markdown",
   "id": "65c080ec",
   "metadata": {},
   "source": [
    "#### e-)"
   ]
  },
  {
   "cell_type": "code",
   "execution_count": 37,
   "id": "8170ba6f",
   "metadata": {},
   "outputs": [
    {
     "name": "stdout",
     "output_type": "stream",
     "text": [
      "(298, 3822)\n"
     ]
    }
   ],
   "source": [
    "samples_3nov_all = get_samples(path=aligned_3nov, n=-1)[:, 21563:25385]\n",
    "samples_27nov_all = get_samples(path=aligned_27nov, n=-1)[:, 21563:25385]\n",
    "samples_8dec_all = get_samples(path=aligned_8dec, n=-1)[:, 21563:25385]\n",
    "samples_all = np.vstack((samples_3nov_all, samples_27nov_all, samples_8dec_all))\n",
    "print(samples_all.shape)\n",
    "samples_all_obj = convert2Phylo(samples_all)"
   ]
  },
  {
   "cell_type": "code",
   "execution_count": 42,
   "id": "695deff3",
   "metadata": {},
   "outputs": [
    {
     "data": {
      "image/png": "[encoded data removed]",
      "text/plain": [
       "<Figure size 432x288 with 1 Axes>"
      ]
     },
     "metadata": {
      "needs_background": "light"
     },
     "output_type": "display_data"
    }
   ],
   "source": [
    "# I used the hamming distance of Phylo bcs its faster\n",
    "calculator = DistanceCalculator('identity')\n",
    "\n",
    "dm = calculator.get_distance(samples_all_obj)\n",
    "\n",
    "tree = constructor.upgma(dm)\n",
    "\n",
    "Phylo.draw(tree)"
   ]
  },
  {
   "cell_type": "code",
   "execution_count": null,
   "id": "b1bc066b",
   "metadata": {},
   "outputs": [],
   "source": []
  }
 ],
 "metadata": {
  "kernelspec": {
   "display_name": "Python 3 (ipykernel)",
   "language": "python",
   "name": "python3"
  },
  "language_info": {
   "codemirror_mode": {
    "name": "ipython",
    "version": 3
   },
   "file_extension": ".py",
   "mimetype": "text/x-python",
   "name": "python",
   "nbconvert_exporter": "python",
   "pygments_lexer": "ipython3",
   "version": "3.8.10"
  }
 },
 "nbformat": 4,
 "nbformat_minor": 5
}
